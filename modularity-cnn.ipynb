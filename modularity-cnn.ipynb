{
 "cells": [
  {
   "cell_type": "markdown",
   "metadata": {},
   "source": [
    "This notebook contains code accompanying our submission to NeurIPS 2024 Science of Deep Learning Workshop."
   ]
  },
  {
   "cell_type": "markdown",
   "metadata": {},
   "source": [
    "## 1. Setup \n",
    "(run, don't read!)"
   ]
  },
  {
   "cell_type": "markdown",
   "metadata": {},
   "source": [
    "_Figure 1_\n",
    "\n",
    "<img src=\"fig1-modularity.png\" width=\"400\">"
   ]
  },
  {
   "cell_type": "code",
   "execution_count": 1,
   "metadata": {},
   "outputs": [],
   "source": [
    "import os\n",
    "import torch\n",
    "import torch.nn as nn\n",
    "import torch.optim as optim\n",
    "import torch.nn.functional as F\n",
    "import tqdm\n",
    "import torchvision\n",
    "import torchvision.transforms as transforms\n",
    "from torchvision.datasets import MNIST, CIFAR10\n",
    "from torch.utils.data import DataLoader, random_split\n",
    "from sklearn.metrics import mutual_info_score\n",
    "import matplotlib.pyplot as plt\n",
    "import numpy as np\n",
    "from PIL import Image\n",
    "import plotly.express as px\n",
    "import plotly.graph_objects as go\n",
    "import plotly.colors as pc\n",
    "from plotly.subplots import make_subplots\n",
    "from IPython.display import clear_output\n",
    "from collections import defaultdict\n",
    "from itertools import islice\n",
    "import random\n",
    "import time\n",
    "from pathlib import Path\n",
    "import math\n",
    "\n",
    "from sklearn.cluster import KMeans\n",
    "from scipy.sparse.linalg import svds\n",
    "\n",
    "device = torch.device('cuda:0' if torch.cuda.is_available() else 'cpu')\n",
    "device\n",
    "\n",
    "def randomseed(seed):\n",
    "    torch.manual_seed(seed)\n",
    "    torch.cuda.manual_seed(seed)\n",
    "    np.random.seed(seed)\n",
    "    random.seed(seed)\n",
    "    torch.backends.cudnn.deterministic = True\n",
    "    torch.backends.cudnn.benchmark = False"
   ]
  },
  {
   "cell_type": "markdown",
   "metadata": {},
   "source": [
    "### (a) Data"
   ]
  },
  {
   "cell_type": "code",
   "execution_count": 2,
   "metadata": {},
   "outputs": [
    {
     "name": "stdout",
     "output_type": "stream",
     "text": [
      "Downloading https://www.cs.toronto.edu/~kriz/cifar-10-python.tar.gz to ./cifar-10-python.tar.gz\n"
     ]
    },
    {
     "name": "stderr",
     "output_type": "stream",
     "text": [
      "100%|██████████| 170M/170M [00:02<00:00, 72.3MB/s] \n"
     ]
    },
    {
     "name": "stdout",
     "output_type": "stream",
     "text": [
      "Extracting ./cifar-10-python.tar.gz to .\n",
      "Files already downloaded and verified\n"
     ]
    }
   ],
   "source": [
    "transform = torchvision.transforms.ToTensor()\n",
    "train_dataset = CIFAR10(root='.', train=True, download=True, transform=transform)\n",
    "test_dataset = CIFAR10(root='.', train=False, download=True, transform=transform)\n",
    "\n",
    "train_loader = DataLoader(dataset=train_dataset, batch_size=64, shuffle=True)\n",
    "test_loader = DataLoader(dataset=test_dataset, batch_size=64, shuffle=False)"
   ]
  },
  {
   "cell_type": "markdown",
   "metadata": {},
   "source": [
    "### (b) Models"
   ]
  },
  {
   "cell_type": "code",
   "execution_count": 18,
   "metadata": {},
   "outputs": [],
   "source": [
    "class CNN(nn.Module):\n",
    "    def __init__(self):\n",
    "        super(CNN, self).__init__()\n",
    "        self.conv1 = nn.Conv2d(in_channels=3, out_channels=16, kernel_size=3, stride=1, padding=1)\n",
    "        self.fc1 = nn.Linear(16 * 16 * 16, 64, bias=False)\n",
    "        self.fc2 = nn.Linear(64, 64, bias=False)\n",
    "        self.fc3 = nn.Linear(64, 64, bias=False)\n",
    "        self.fc4 = nn.Linear(64, 10, bias=False)\n",
    "\n",
    "    def forward(self, x):\n",
    "        x = torch.relu(self.conv1(x))\n",
    "        x = F.max_pool2d(x, 2)\n",
    "        x = x.view(-1, 16 * 16 * 16)\n",
    "        x = torch.relu(self.fc1(x))\n",
    "        x = torch.relu(self.fc2(x))\n",
    "        x = torch.relu(self.fc3(x))\n",
    "        x = self.fc4(x)\n",
    "        return x"
   ]
  },
  {
   "cell_type": "markdown",
   "metadata": {},
   "source": [
    "### (c) Evaluation"
   ]
  },
  {
   "cell_type": "code",
   "execution_count": 19,
   "metadata": {},
   "outputs": [],
   "source": [
    "def accuracy(model, data):\n",
    "    model.eval()\n",
    "    correct = 0\n",
    "    total = 0\n",
    "    with torch.no_grad():\n",
    "        for images, labels in data:\n",
    "            outputs = model(images.to(device))\n",
    "            _, predicted = torch.max(outputs.data, 1)\n",
    "            total += labels.size(0)\n",
    "            correct += (predicted == labels.to(device)).sum().item()\n",
    "    return correct / total\n",
    "\n",
    "def classwise_accuracy(model, data):\n",
    "    model.eval()\n",
    "    correct = defaultdict(int)\n",
    "    total = defaultdict(int)\n",
    "    with torch.no_grad():\n",
    "        for images, labels in data:\n",
    "            outputs = model(images.to(device))\n",
    "            _, predicted = torch.max(outputs.data, 1)\n",
    "            for i in range(len(labels)):\n",
    "                label = labels[i].item()\n",
    "                total[label] += 1\n",
    "                correct[label] += int(predicted[i] == label)\n",
    "    return [round(correct[i] / total[i], 3) if total[i] > 0 else 0 for i in range(10)]\n",
    "\n",
    "def clusterability(model, cluster_U_indices, cluster_V_indices):\n",
    "    num_clusters = len(cluster_U_indices)\n",
    "    A = model.fc2.weight ** 2\n",
    "    mask = torch.zeros_like(A, dtype=torch.bool)\n",
    "    \n",
    "    for cluster_idx in range(num_clusters):\n",
    "        u_indices = torch.tensor(cluster_U_indices[cluster_idx], dtype=torch.long)\n",
    "        v_indices = torch.tensor(cluster_V_indices[cluster_idx], dtype=torch.long)\n",
    "        mask[u_indices.unsqueeze(1), v_indices] = True\n",
    "    \n",
    "    intra_cluster_out_sum = torch.sum(A[mask])\n",
    "    total_out_sum = torch.sum(A)\n",
    "    \n",
    "    return intra_cluster_out_sum / total_out_sum\n",
    "\n",
    "def clusterability_component(component, num_clusters=4):\n",
    "    A = component ** 2\n",
    "    rows, cols = A.shape\n",
    "    \n",
    "    # Create contiguous clusters of equal size\n",
    "    row_cluster_size = rows // num_clusters\n",
    "    col_cluster_size = cols // num_clusters\n",
    "    \n",
    "    cluster_U_indices = {}\n",
    "    cluster_V_indices = {}\n",
    "    \n",
    "    for i in range(num_clusters):\n",
    "        # Handle the last cluster which might have extra elements\n",
    "        if i == num_clusters - 1:\n",
    "            cluster_U_indices[i] = list(range(i * row_cluster_size, rows))\n",
    "            cluster_V_indices[i] = list(range(i * col_cluster_size, cols))\n",
    "        else:\n",
    "            cluster_U_indices[i] = list(range(i * row_cluster_size, (i + 1) * row_cluster_size))\n",
    "            cluster_V_indices[i] = list(range(i * col_cluster_size, (i + 1) * col_cluster_size))\n",
    "    \n",
    "    # Create mask for intra-cluster connections\n",
    "    mask = torch.zeros_like(A, dtype=torch.bool)\n",
    "    \n",
    "    for cluster_idx in range(num_clusters):\n",
    "        u_indices = torch.tensor(cluster_U_indices[cluster_idx], dtype=torch.long)\n",
    "        v_indices = torch.tensor(cluster_V_indices[cluster_idx], dtype=torch.long)\n",
    "        mask[u_indices.unsqueeze(1), v_indices] = True\n",
    "    \n",
    "    intra_cluster_out_sum = torch.sum(A[mask])\n",
    "    total_out_sum = torch.sum(A)\n",
    "    \n",
    "    return intra_cluster_out_sum / total_out_sum"
   ]
  },
  {
   "cell_type": "markdown",
   "metadata": {},
   "source": [
    "## BSGC (Check if NNs trained by CE are not modular by default)"
   ]
  },
  {
   "cell_type": "code",
   "execution_count": 20,
   "metadata": {},
   "outputs": [],
   "source": [
    "def bipartite_spectral_clustering(similarity_matrix, k, cluster_U_indices=None, cluster_V_indices=None):\n",
    "    \n",
    "    A = similarity_matrix.detach().cpu().numpy() # transform from gpu to cpu, and then to numpy\n",
    "    A = np.abs(A)\n",
    "    D_U = np.diag(np.sum(A, axis=1))\n",
    "    D_V = np.diag(np.sum(A, axis=0))\n",
    "\n",
    "    D_U_inv_sqrt = np.linalg.inv(np.sqrt(D_U))\n",
    "    D_V_inv_sqrt = np.linalg.inv(np.sqrt(D_V))\n",
    "\n",
    "    A_tilde = D_U_inv_sqrt @ A @ D_V_inv_sqrt\n",
    "\n",
    "    U, Sigma, Vt = svds(A_tilde, k=k)\n",
    "\n",
    "    if cluster_U_indices is None:\n",
    "        kmeans_U = KMeans(n_clusters=k, random_state=42).fit(U)\n",
    "        labels_U = kmeans_U.labels_\n",
    "\n",
    "        cluster_U_indices = defaultdict(list)\n",
    "        for i, label in enumerate(labels_U):\n",
    "            cluster_U_indices[label].append(i)\n",
    "\n",
    "    if cluster_V_indices is None:\n",
    "        kmeans_V = KMeans(n_clusters=k, random_state=42).fit(Vt.T)\n",
    "        labels_V = kmeans_V.labels_\n",
    "\n",
    "        cluster_V_indices = defaultdict(list)\n",
    "        for i, label in enumerate(labels_V):\n",
    "            cluster_V_indices[label].append(i)\n",
    "\n",
    "    return cluster_U_indices, cluster_V_indices"
   ]
  },
  {
   "cell_type": "code",
   "execution_count": 21,
   "metadata": {},
   "outputs": [],
   "source": [
    "def total_clusterability(model, grads, subset_of_layers, num_clusters):\n",
    "\n",
    "    nr_layers = len(subset_of_layers)\n",
    "    clusterability_scores = np.zeros((nr_layers, 2))\n",
    "\n",
    "    cluster_next_U_indices = [None, None]\n",
    "    for l, layer_nr in enumerate(subset_of_layers):\n",
    "        layer_grads = torch.stack(list({k: v[0] / v[0].norm() for k, v in grads[layer_nr].items()}.values()))\n",
    "        grads_similarity_matrix = torch.zeros(layer_grads.shape[1], layer_grads.shape[1]).to(device)\n",
    "        for i in range(layer_grads.shape[0]):\n",
    "            grads_similarity_matrix += torch.mm(layer_grads[i].t(), layer_grads[i])\n",
    "\n",
    "        similarity_matrices = [getattr(model, f\"fc{layer_nr}\").weight, grads_similarity_matrix]\n",
    "\n",
    "        for i, similarity_matrix in enumerate(similarity_matrices):\n",
    "            cluster_U_indices, cluster_V_indices = bipartite_spectral_clustering(similarity_matrix, num_clusters, cluster_next_U_indices[i])\n",
    "            cl = clusterability(model, cluster_U_indices, cluster_V_indices)\n",
    "            clusterability_scores[l, i] = cl.item()\n",
    "            cluster_next_U_indices[i] = cluster_V_indices\n",
    "\n",
    "    return clusterability_scores"
   ]
  },
  {
   "cell_type": "markdown",
   "metadata": {},
   "source": [
    "## 2. Training the Unclustered Model"
   ]
  },
  {
   "cell_type": "code",
   "execution_count": 22,
   "metadata": {},
   "outputs": [],
   "source": [
    "dataset = 'CIFAR10'"
   ]
  },
  {
   "cell_type": "code",
   "execution_count": 23,
   "metadata": {},
   "outputs": [],
   "source": [
    "subset_of_layers = [2,3]\n",
    "\n",
    "unclustered_model = CNN().to(device)\n",
    "criterion = nn.CrossEntropyLoss()\n",
    "optimizer = optim.Adam(unclustered_model.parameters(), lr=1e-3)\n",
    "train_losses = []\n",
    "grads = {l: defaultdict(list) for l in subset_of_layers}"
   ]
  },
  {
   "cell_type": "code",
   "execution_count": 24,
   "metadata": {},
   "outputs": [],
   "source": [
    "path = Path(f'results/{dataset}/')\n",
    "path.mkdir(parents=True, exist_ok=True)"
   ]
  },
  {
   "cell_type": "code",
   "execution_count": null,
   "metadata": {},
   "outputs": [
    {
     "name": "stdout",
     "output_type": "stream",
     "text": [
      "Epoch 1/10, Loss: 1.5023, Accuracy: 0.4658\n",
      "Epoch 2/10, Loss: 1.4825, Accuracy: 0.5414\n",
      "Epoch 3/10, Loss: 0.7785, Accuracy: 0.5897\n",
      "Epoch 4/10, Loss: 1.0224, Accuracy: 0.6220\n",
      "Epoch 5/10, Loss: 1.3159, Accuracy: 0.6333\n",
      "Epoch 6/10, Loss: 0.7811, Accuracy: 0.6320\n",
      "Epoch 7/10, Loss: 0.8052, Accuracy: 0.6444\n",
      "Epoch 8/10, Loss: 1.1430, Accuracy: 0.6538\n",
      "Epoch 9/10, Loss: 1.0727, Accuracy: 0.6573\n",
      "Epoch 10/10, Loss: 0.4991, Accuracy: 0.6537\n"
     ]
    }
   ],
   "source": [
    "randomseed(42)\n",
    "path = Path(f'results/{dataset}/')\n",
    "\n",
    "for epoch in range(10):\n",
    "    unclustered_model.train()\n",
    "    for batch_idx, (data, target) in enumerate(train_loader):\n",
    "        data, target = data.to(device), target.to(device)\n",
    "        optimizer.zero_grad()\n",
    "        output = unclustered_model(data)\n",
    "        loss = criterion(output, target)\n",
    "        loss.backward()\n",
    "        # store gradients that are in the subset of layers\n",
    "        for l in subset_of_layers:\n",
    "            for p in unclustered_model.named_parameters():\n",
    "                if p[0] == f'fc{l}.weight':\n",
    "                    grads[l][batch_idx + (epoch * len(train_loader))].append(p[1].grad.clone())\n",
    "                    break\n",
    "        optimizer.step()\n",
    "        train_losses.append(loss.item())\n",
    "    acc = accuracy(unclustered_model, test_loader)\n",
    "    print(f'Epoch {epoch+1}/{10}, Loss: {loss.item():.4f}, Accuracy: {acc:.4f}')\n",
    "    # save model\n",
    "    torch.save(unclustered_model.state_dict(), path / 'unclustered_model.pth')"
   ]
  },
  {
   "cell_type": "code",
   "execution_count": 26,
   "metadata": {},
   "outputs": [],
   "source": [
    "path = Path(f'results/{dataset}/')"
   ]
  },
  {
   "cell_type": "code",
   "execution_count": 29,
   "metadata": {},
   "outputs": [
    {
     "data": {
      "text/plain": [
       "<All keys matched successfully>"
      ]
     },
     "execution_count": 29,
     "metadata": {},
     "output_type": "execute_result"
    }
   ],
   "source": [
    "unclustered_model = CNN().to(device)\n",
    "unclustered_model.load_state_dict(torch.load(path/'unclustered_model.pth', weights_only=True))"
   ]
  },
  {
   "cell_type": "markdown",
   "metadata": {},
   "source": [
    "## Clusterability of trained model"
   ]
  },
  {
   "cell_type": "code",
   "execution_count": 31,
   "metadata": {},
   "outputs": [],
   "source": [
    "cluster_sizes = [2, 4, 6, 8, 10, 12, 14]\n",
    "clusterability_scores = []\n",
    "for num_clusters in cluster_sizes:\n",
    "    clusterability_scores.append(total_clusterability(unclustered_model, grads, subset_of_layers, num_clusters))\n",
    "\n",
    "clusterability_scores = np.array(clusterability_scores)"
   ]
  },
  {
   "cell_type": "code",
   "execution_count": 32,
   "metadata": {},
   "outputs": [
    {
     "name": "stdout",
     "output_type": "stream",
     "text": [
      "(7, 2, 2)\n"
     ]
    }
   ],
   "source": [
    "print(clusterability_scores.shape)"
   ]
  },
  {
   "cell_type": "code",
   "execution_count": 48,
   "metadata": {},
   "outputs": [
    {
     "data": {
      "application/vnd.plotly.v1+json": {
       "config": {
        "plotlyServerURL": "https://plot.ly"
       },
       "data": [
        {
         "line": {
          "color": "#CC0000"
         },
         "mode": "lines+markers",
         "name": "Weight-based BSGC",
         "type": "scatter",
         "x": [
          2,
          4,
          6,
          8,
          10,
          12,
          14
         ],
         "y": [
          0.545250415802002,
          0.24699867516756058,
          0.1674913763999939,
          0.1476881429553032,
          0.11316343024373055,
          0.07878141850233078,
          0.08102340996265411
         ]
        },
        {
         "line": {
          "color": "#0000CC"
         },
         "mode": "lines+markers",
         "name": "Gradient-based BSGC",
         "type": "scatter",
         "x": [
          2,
          4,
          6,
          8,
          10,
          12,
          14
         ],
         "y": [
          0.48634378612041473,
          0.29700031876564026,
          0.22255519777536392,
          0.1293511837720871,
          0.09897081181406975,
          0.11016876250505447,
          0.08816345036029816
         ]
        },
        {
         "line": {
          "color": "black",
          "dash": "dash",
          "width": 3
         },
         "mode": "lines",
         "name": "Random Baseline",
         "type": "scatter",
         "x": [
          2,
          4,
          6,
          8,
          10,
          12,
          14
         ],
         "y": [
          0.5,
          0.25,
          0.16666666666666666,
          0.125,
          0.1,
          0.08333333333333333,
          0.07142857142857142
         ]
        }
       ],
       "layout": {
        "autosize": false,
        "height": 400,
        "legend": {
         "bgcolor": "rgba(255, 255, 255, 0.8)",
         "bordercolor": "black",
         "borderwidth": 1,
         "x": 0.95,
         "xanchor": "right",
         "y": 0.95,
         "yanchor": "top"
        },
        "plot_bgcolor": "rgba(255, 255, 255, 1)",
        "template": {
         "data": {
          "bar": [
           {
            "error_x": {
             "color": "#2a3f5f"
            },
            "error_y": {
             "color": "#2a3f5f"
            },
            "marker": {
             "line": {
              "color": "#E5ECF6",
              "width": 0.5
             },
             "pattern": {
              "fillmode": "overlay",
              "size": 10,
              "solidity": 0.2
             }
            },
            "type": "bar"
           }
          ],
          "barpolar": [
           {
            "marker": {
             "line": {
              "color": "#E5ECF6",
              "width": 0.5
             },
             "pattern": {
              "fillmode": "overlay",
              "size": 10,
              "solidity": 0.2
             }
            },
            "type": "barpolar"
           }
          ],
          "carpet": [
           {
            "aaxis": {
             "endlinecolor": "#2a3f5f",
             "gridcolor": "white",
             "linecolor": "white",
             "minorgridcolor": "white",
             "startlinecolor": "#2a3f5f"
            },
            "baxis": {
             "endlinecolor": "#2a3f5f",
             "gridcolor": "white",
             "linecolor": "white",
             "minorgridcolor": "white",
             "startlinecolor": "#2a3f5f"
            },
            "type": "carpet"
           }
          ],
          "choropleth": [
           {
            "colorbar": {
             "outlinewidth": 0,
             "ticks": ""
            },
            "type": "choropleth"
           }
          ],
          "contour": [
           {
            "colorbar": {
             "outlinewidth": 0,
             "ticks": ""
            },
            "colorscale": [
             [
              0,
              "#0d0887"
             ],
             [
              0.1111111111111111,
              "#46039f"
             ],
             [
              0.2222222222222222,
              "#7201a8"
             ],
             [
              0.3333333333333333,
              "#9c179e"
             ],
             [
              0.4444444444444444,
              "#bd3786"
             ],
             [
              0.5555555555555556,
              "#d8576b"
             ],
             [
              0.6666666666666666,
              "#ed7953"
             ],
             [
              0.7777777777777778,
              "#fb9f3a"
             ],
             [
              0.8888888888888888,
              "#fdca26"
             ],
             [
              1,
              "#f0f921"
             ]
            ],
            "type": "contour"
           }
          ],
          "contourcarpet": [
           {
            "colorbar": {
             "outlinewidth": 0,
             "ticks": ""
            },
            "type": "contourcarpet"
           }
          ],
          "heatmap": [
           {
            "colorbar": {
             "outlinewidth": 0,
             "ticks": ""
            },
            "colorscale": [
             [
              0,
              "#0d0887"
             ],
             [
              0.1111111111111111,
              "#46039f"
             ],
             [
              0.2222222222222222,
              "#7201a8"
             ],
             [
              0.3333333333333333,
              "#9c179e"
             ],
             [
              0.4444444444444444,
              "#bd3786"
             ],
             [
              0.5555555555555556,
              "#d8576b"
             ],
             [
              0.6666666666666666,
              "#ed7953"
             ],
             [
              0.7777777777777778,
              "#fb9f3a"
             ],
             [
              0.8888888888888888,
              "#fdca26"
             ],
             [
              1,
              "#f0f921"
             ]
            ],
            "type": "heatmap"
           }
          ],
          "heatmapgl": [
           {
            "colorbar": {
             "outlinewidth": 0,
             "ticks": ""
            },
            "colorscale": [
             [
              0,
              "#0d0887"
             ],
             [
              0.1111111111111111,
              "#46039f"
             ],
             [
              0.2222222222222222,
              "#7201a8"
             ],
             [
              0.3333333333333333,
              "#9c179e"
             ],
             [
              0.4444444444444444,
              "#bd3786"
             ],
             [
              0.5555555555555556,
              "#d8576b"
             ],
             [
              0.6666666666666666,
              "#ed7953"
             ],
             [
              0.7777777777777778,
              "#fb9f3a"
             ],
             [
              0.8888888888888888,
              "#fdca26"
             ],
             [
              1,
              "#f0f921"
             ]
            ],
            "type": "heatmapgl"
           }
          ],
          "histogram": [
           {
            "marker": {
             "pattern": {
              "fillmode": "overlay",
              "size": 10,
              "solidity": 0.2
             }
            },
            "type": "histogram"
           }
          ],
          "histogram2d": [
           {
            "colorbar": {
             "outlinewidth": 0,
             "ticks": ""
            },
            "colorscale": [
             [
              0,
              "#0d0887"
             ],
             [
              0.1111111111111111,
              "#46039f"
             ],
             [
              0.2222222222222222,
              "#7201a8"
             ],
             [
              0.3333333333333333,
              "#9c179e"
             ],
             [
              0.4444444444444444,
              "#bd3786"
             ],
             [
              0.5555555555555556,
              "#d8576b"
             ],
             [
              0.6666666666666666,
              "#ed7953"
             ],
             [
              0.7777777777777778,
              "#fb9f3a"
             ],
             [
              0.8888888888888888,
              "#fdca26"
             ],
             [
              1,
              "#f0f921"
             ]
            ],
            "type": "histogram2d"
           }
          ],
          "histogram2dcontour": [
           {
            "colorbar": {
             "outlinewidth": 0,
             "ticks": ""
            },
            "colorscale": [
             [
              0,
              "#0d0887"
             ],
             [
              0.1111111111111111,
              "#46039f"
             ],
             [
              0.2222222222222222,
              "#7201a8"
             ],
             [
              0.3333333333333333,
              "#9c179e"
             ],
             [
              0.4444444444444444,
              "#bd3786"
             ],
             [
              0.5555555555555556,
              "#d8576b"
             ],
             [
              0.6666666666666666,
              "#ed7953"
             ],
             [
              0.7777777777777778,
              "#fb9f3a"
             ],
             [
              0.8888888888888888,
              "#fdca26"
             ],
             [
              1,
              "#f0f921"
             ]
            ],
            "type": "histogram2dcontour"
           }
          ],
          "mesh3d": [
           {
            "colorbar": {
             "outlinewidth": 0,
             "ticks": ""
            },
            "type": "mesh3d"
           }
          ],
          "parcoords": [
           {
            "line": {
             "colorbar": {
              "outlinewidth": 0,
              "ticks": ""
             }
            },
            "type": "parcoords"
           }
          ],
          "pie": [
           {
            "automargin": true,
            "type": "pie"
           }
          ],
          "scatter": [
           {
            "fillpattern": {
             "fillmode": "overlay",
             "size": 10,
             "solidity": 0.2
            },
            "type": "scatter"
           }
          ],
          "scatter3d": [
           {
            "line": {
             "colorbar": {
              "outlinewidth": 0,
              "ticks": ""
             }
            },
            "marker": {
             "colorbar": {
              "outlinewidth": 0,
              "ticks": ""
             }
            },
            "type": "scatter3d"
           }
          ],
          "scattercarpet": [
           {
            "marker": {
             "colorbar": {
              "outlinewidth": 0,
              "ticks": ""
             }
            },
            "type": "scattercarpet"
           }
          ],
          "scattergeo": [
           {
            "marker": {
             "colorbar": {
              "outlinewidth": 0,
              "ticks": ""
             }
            },
            "type": "scattergeo"
           }
          ],
          "scattergl": [
           {
            "marker": {
             "colorbar": {
              "outlinewidth": 0,
              "ticks": ""
             }
            },
            "type": "scattergl"
           }
          ],
          "scattermapbox": [
           {
            "marker": {
             "colorbar": {
              "outlinewidth": 0,
              "ticks": ""
             }
            },
            "type": "scattermapbox"
           }
          ],
          "scatterpolar": [
           {
            "marker": {
             "colorbar": {
              "outlinewidth": 0,
              "ticks": ""
             }
            },
            "type": "scatterpolar"
           }
          ],
          "scatterpolargl": [
           {
            "marker": {
             "colorbar": {
              "outlinewidth": 0,
              "ticks": ""
             }
            },
            "type": "scatterpolargl"
           }
          ],
          "scatterternary": [
           {
            "marker": {
             "colorbar": {
              "outlinewidth": 0,
              "ticks": ""
             }
            },
            "type": "scatterternary"
           }
          ],
          "surface": [
           {
            "colorbar": {
             "outlinewidth": 0,
             "ticks": ""
            },
            "colorscale": [
             [
              0,
              "#0d0887"
             ],
             [
              0.1111111111111111,
              "#46039f"
             ],
             [
              0.2222222222222222,
              "#7201a8"
             ],
             [
              0.3333333333333333,
              "#9c179e"
             ],
             [
              0.4444444444444444,
              "#bd3786"
             ],
             [
              0.5555555555555556,
              "#d8576b"
             ],
             [
              0.6666666666666666,
              "#ed7953"
             ],
             [
              0.7777777777777778,
              "#fb9f3a"
             ],
             [
              0.8888888888888888,
              "#fdca26"
             ],
             [
              1,
              "#f0f921"
             ]
            ],
            "type": "surface"
           }
          ],
          "table": [
           {
            "cells": {
             "fill": {
              "color": "#EBF0F8"
             },
             "line": {
              "color": "white"
             }
            },
            "header": {
             "fill": {
              "color": "#C8D4E3"
             },
             "line": {
              "color": "white"
             }
            },
            "type": "table"
           }
          ]
         },
         "layout": {
          "annotationdefaults": {
           "arrowcolor": "#2a3f5f",
           "arrowhead": 0,
           "arrowwidth": 1
          },
          "autotypenumbers": "strict",
          "coloraxis": {
           "colorbar": {
            "outlinewidth": 0,
            "ticks": ""
           }
          },
          "colorscale": {
           "diverging": [
            [
             0,
             "#8e0152"
            ],
            [
             0.1,
             "#c51b7d"
            ],
            [
             0.2,
             "#de77ae"
            ],
            [
             0.3,
             "#f1b6da"
            ],
            [
             0.4,
             "#fde0ef"
            ],
            [
             0.5,
             "#f7f7f7"
            ],
            [
             0.6,
             "#e6f5d0"
            ],
            [
             0.7,
             "#b8e186"
            ],
            [
             0.8,
             "#7fbc41"
            ],
            [
             0.9,
             "#4d9221"
            ],
            [
             1,
             "#276419"
            ]
           ],
           "sequential": [
            [
             0,
             "#0d0887"
            ],
            [
             0.1111111111111111,
             "#46039f"
            ],
            [
             0.2222222222222222,
             "#7201a8"
            ],
            [
             0.3333333333333333,
             "#9c179e"
            ],
            [
             0.4444444444444444,
             "#bd3786"
            ],
            [
             0.5555555555555556,
             "#d8576b"
            ],
            [
             0.6666666666666666,
             "#ed7953"
            ],
            [
             0.7777777777777778,
             "#fb9f3a"
            ],
            [
             0.8888888888888888,
             "#fdca26"
            ],
            [
             1,
             "#f0f921"
            ]
           ],
           "sequentialminus": [
            [
             0,
             "#0d0887"
            ],
            [
             0.1111111111111111,
             "#46039f"
            ],
            [
             0.2222222222222222,
             "#7201a8"
            ],
            [
             0.3333333333333333,
             "#9c179e"
            ],
            [
             0.4444444444444444,
             "#bd3786"
            ],
            [
             0.5555555555555556,
             "#d8576b"
            ],
            [
             0.6666666666666666,
             "#ed7953"
            ],
            [
             0.7777777777777778,
             "#fb9f3a"
            ],
            [
             0.8888888888888888,
             "#fdca26"
            ],
            [
             1,
             "#f0f921"
            ]
           ]
          },
          "colorway": [
           "#636efa",
           "#EF553B",
           "#00cc96",
           "#ab63fa",
           "#FFA15A",
           "#19d3f3",
           "#FF6692",
           "#B6E880",
           "#FF97FF",
           "#FECB52"
          ],
          "font": {
           "color": "#2a3f5f"
          },
          "geo": {
           "bgcolor": "white",
           "lakecolor": "white",
           "landcolor": "#E5ECF6",
           "showlakes": true,
           "showland": true,
           "subunitcolor": "white"
          },
          "hoverlabel": {
           "align": "left"
          },
          "hovermode": "closest",
          "mapbox": {
           "style": "light"
          },
          "paper_bgcolor": "white",
          "plot_bgcolor": "#E5ECF6",
          "polar": {
           "angularaxis": {
            "gridcolor": "white",
            "linecolor": "white",
            "ticks": ""
           },
           "bgcolor": "#E5ECF6",
           "radialaxis": {
            "gridcolor": "white",
            "linecolor": "white",
            "ticks": ""
           }
          },
          "scene": {
           "xaxis": {
            "backgroundcolor": "#E5ECF6",
            "gridcolor": "white",
            "gridwidth": 2,
            "linecolor": "white",
            "showbackground": true,
            "ticks": "",
            "zerolinecolor": "white"
           },
           "yaxis": {
            "backgroundcolor": "#E5ECF6",
            "gridcolor": "white",
            "gridwidth": 2,
            "linecolor": "white",
            "showbackground": true,
            "ticks": "",
            "zerolinecolor": "white"
           },
           "zaxis": {
            "backgroundcolor": "#E5ECF6",
            "gridcolor": "white",
            "gridwidth": 2,
            "linecolor": "white",
            "showbackground": true,
            "ticks": "",
            "zerolinecolor": "white"
           }
          },
          "shapedefaults": {
           "line": {
            "color": "#2a3f5f"
           }
          },
          "ternary": {
           "aaxis": {
            "gridcolor": "white",
            "linecolor": "white",
            "ticks": ""
           },
           "baxis": {
            "gridcolor": "white",
            "linecolor": "white",
            "ticks": ""
           },
           "bgcolor": "#E5ECF6",
           "caxis": {
            "gridcolor": "white",
            "linecolor": "white",
            "ticks": ""
           }
          },
          "title": {
           "x": 0.05
          },
          "xaxis": {
           "automargin": true,
           "gridcolor": "white",
           "linecolor": "white",
           "ticks": "",
           "title": {
            "standoff": 15
           },
           "zerolinecolor": "white",
           "zerolinewidth": 2
          },
          "yaxis": {
           "automargin": true,
           "gridcolor": "white",
           "linecolor": "white",
           "ticks": "",
           "title": {
            "standoff": 15
           },
           "zerolinecolor": "white",
           "zerolinewidth": 2
          }
         }
        },
        "width": 500,
        "xaxis": {
         "gridcolor": "LightGray",
         "gridwidth": 1,
         "linecolor": "black",
         "linewidth": 1,
         "mirror": false,
         "showgrid": true,
         "showline": true,
         "tickfont": {
          "color": "black",
          "family": "serif",
          "size": 18
         },
         "tickvals": [
          2,
          4,
          6,
          8,
          10,
          12,
          14
         ],
         "title": {
          "font": {
           "color": "black",
           "family": "serif",
           "size": 20
          },
          "text": "Number of Clusters (k)"
         }
        },
        "yaxis": {
         "gridcolor": "LightGray",
         "gridwidth": 1,
         "linecolor": "black",
         "linewidth": 1,
         "mirror": false,
         "range": [
          0,
          0.7
         ],
         "showgrid": true,
         "showline": true,
         "tickfont": {
          "color": "black",
          "family": "serif",
          "size": 18
         },
         "tickvals": [
          0,
          0.1,
          0.2,
          0.30000000000000004,
          0.4,
          0.5,
          0.6000000000000001,
          0.7000000000000001,
          0.8,
          0.9,
          1
         ],
         "title": {
          "font": {
           "color": "black",
           "family": "serif",
           "size": 20
          },
          "text": "Clusterability"
         }
        }
       }
      },
      "text/html": [
       "<div>                            <div id=\"ef73e334-b1ef-4967-b332-02184c95526f\" class=\"plotly-graph-div\" style=\"height:400px; width:500px;\"></div>            <script type=\"text/javascript\">                require([\"plotly\"], function(Plotly) {                    window.PLOTLYENV=window.PLOTLYENV || {};                                    if (document.getElementById(\"ef73e334-b1ef-4967-b332-02184c95526f\")) {                    Plotly.newPlot(                        \"ef73e334-b1ef-4967-b332-02184c95526f\",                        [{\"line\":{\"color\":\"#CC0000\"},\"mode\":\"lines+markers\",\"name\":\"Weight-based BSGC\",\"x\":[2,4,6,8,10,12,14],\"y\":[0.545250415802002,0.24699867516756058,0.1674913763999939,0.1476881429553032,0.11316343024373055,0.07878141850233078,0.08102340996265411],\"type\":\"scatter\"},{\"line\":{\"color\":\"#0000CC\"},\"mode\":\"lines+markers\",\"name\":\"Gradient-based BSGC\",\"x\":[2,4,6,8,10,12,14],\"y\":[0.48634378612041473,0.29700031876564026,0.22255519777536392,0.1293511837720871,0.09897081181406975,0.11016876250505447,0.08816345036029816],\"type\":\"scatter\"},{\"line\":{\"color\":\"black\",\"dash\":\"dash\",\"width\":3},\"mode\":\"lines\",\"name\":\"Random Baseline\",\"x\":[2,4,6,8,10,12,14],\"y\":[0.5,0.25,0.16666666666666666,0.125,0.1,0.08333333333333333,0.07142857142857142],\"type\":\"scatter\"}],                        {\"template\":{\"data\":{\"histogram2dcontour\":[{\"type\":\"histogram2dcontour\",\"colorbar\":{\"outlinewidth\":0,\"ticks\":\"\"},\"colorscale\":[[0.0,\"#0d0887\"],[0.1111111111111111,\"#46039f\"],[0.2222222222222222,\"#7201a8\"],[0.3333333333333333,\"#9c179e\"],[0.4444444444444444,\"#bd3786\"],[0.5555555555555556,\"#d8576b\"],[0.6666666666666666,\"#ed7953\"],[0.7777777777777778,\"#fb9f3a\"],[0.8888888888888888,\"#fdca26\"],[1.0,\"#f0f921\"]]}],\"choropleth\":[{\"type\":\"choropleth\",\"colorbar\":{\"outlinewidth\":0,\"ticks\":\"\"}}],\"histogram2d\":[{\"type\":\"histogram2d\",\"colorbar\":{\"outlinewidth\":0,\"ticks\":\"\"},\"colorscale\":[[0.0,\"#0d0887\"],[0.1111111111111111,\"#46039f\"],[0.2222222222222222,\"#7201a8\"],[0.3333333333333333,\"#9c179e\"],[0.4444444444444444,\"#bd3786\"],[0.5555555555555556,\"#d8576b\"],[0.6666666666666666,\"#ed7953\"],[0.7777777777777778,\"#fb9f3a\"],[0.8888888888888888,\"#fdca26\"],[1.0,\"#f0f921\"]]}],\"heatmap\":[{\"type\":\"heatmap\",\"colorbar\":{\"outlinewidth\":0,\"ticks\":\"\"},\"colorscale\":[[0.0,\"#0d0887\"],[0.1111111111111111,\"#46039f\"],[0.2222222222222222,\"#7201a8\"],[0.3333333333333333,\"#9c179e\"],[0.4444444444444444,\"#bd3786\"],[0.5555555555555556,\"#d8576b\"],[0.6666666666666666,\"#ed7953\"],[0.7777777777777778,\"#fb9f3a\"],[0.8888888888888888,\"#fdca26\"],[1.0,\"#f0f921\"]]}],\"heatmapgl\":[{\"type\":\"heatmapgl\",\"colorbar\":{\"outlinewidth\":0,\"ticks\":\"\"},\"colorscale\":[[0.0,\"#0d0887\"],[0.1111111111111111,\"#46039f\"],[0.2222222222222222,\"#7201a8\"],[0.3333333333333333,\"#9c179e\"],[0.4444444444444444,\"#bd3786\"],[0.5555555555555556,\"#d8576b\"],[0.6666666666666666,\"#ed7953\"],[0.7777777777777778,\"#fb9f3a\"],[0.8888888888888888,\"#fdca26\"],[1.0,\"#f0f921\"]]}],\"contourcarpet\":[{\"type\":\"contourcarpet\",\"colorbar\":{\"outlinewidth\":0,\"ticks\":\"\"}}],\"contour\":[{\"type\":\"contour\",\"colorbar\":{\"outlinewidth\":0,\"ticks\":\"\"},\"colorscale\":[[0.0,\"#0d0887\"],[0.1111111111111111,\"#46039f\"],[0.2222222222222222,\"#7201a8\"],[0.3333333333333333,\"#9c179e\"],[0.4444444444444444,\"#bd3786\"],[0.5555555555555556,\"#d8576b\"],[0.6666666666666666,\"#ed7953\"],[0.7777777777777778,\"#fb9f3a\"],[0.8888888888888888,\"#fdca26\"],[1.0,\"#f0f921\"]]}],\"surface\":[{\"type\":\"surface\",\"colorbar\":{\"outlinewidth\":0,\"ticks\":\"\"},\"colorscale\":[[0.0,\"#0d0887\"],[0.1111111111111111,\"#46039f\"],[0.2222222222222222,\"#7201a8\"],[0.3333333333333333,\"#9c179e\"],[0.4444444444444444,\"#bd3786\"],[0.5555555555555556,\"#d8576b\"],[0.6666666666666666,\"#ed7953\"],[0.7777777777777778,\"#fb9f3a\"],[0.8888888888888888,\"#fdca26\"],[1.0,\"#f0f921\"]]}],\"mesh3d\":[{\"type\":\"mesh3d\",\"colorbar\":{\"outlinewidth\":0,\"ticks\":\"\"}}],\"scatter\":[{\"fillpattern\":{\"fillmode\":\"overlay\",\"size\":10,\"solidity\":0.2},\"type\":\"scatter\"}],\"parcoords\":[{\"type\":\"parcoords\",\"line\":{\"colorbar\":{\"outlinewidth\":0,\"ticks\":\"\"}}}],\"scatterpolargl\":[{\"type\":\"scatterpolargl\",\"marker\":{\"colorbar\":{\"outlinewidth\":0,\"ticks\":\"\"}}}],\"bar\":[{\"error_x\":{\"color\":\"#2a3f5f\"},\"error_y\":{\"color\":\"#2a3f5f\"},\"marker\":{\"line\":{\"color\":\"#E5ECF6\",\"width\":0.5},\"pattern\":{\"fillmode\":\"overlay\",\"size\":10,\"solidity\":0.2}},\"type\":\"bar\"}],\"scattergeo\":[{\"type\":\"scattergeo\",\"marker\":{\"colorbar\":{\"outlinewidth\":0,\"ticks\":\"\"}}}],\"scatterpolar\":[{\"type\":\"scatterpolar\",\"marker\":{\"colorbar\":{\"outlinewidth\":0,\"ticks\":\"\"}}}],\"histogram\":[{\"marker\":{\"pattern\":{\"fillmode\":\"overlay\",\"size\":10,\"solidity\":0.2}},\"type\":\"histogram\"}],\"scattergl\":[{\"type\":\"scattergl\",\"marker\":{\"colorbar\":{\"outlinewidth\":0,\"ticks\":\"\"}}}],\"scatter3d\":[{\"type\":\"scatter3d\",\"line\":{\"colorbar\":{\"outlinewidth\":0,\"ticks\":\"\"}},\"marker\":{\"colorbar\":{\"outlinewidth\":0,\"ticks\":\"\"}}}],\"scattermapbox\":[{\"type\":\"scattermapbox\",\"marker\":{\"colorbar\":{\"outlinewidth\":0,\"ticks\":\"\"}}}],\"scatterternary\":[{\"type\":\"scatterternary\",\"marker\":{\"colorbar\":{\"outlinewidth\":0,\"ticks\":\"\"}}}],\"scattercarpet\":[{\"type\":\"scattercarpet\",\"marker\":{\"colorbar\":{\"outlinewidth\":0,\"ticks\":\"\"}}}],\"carpet\":[{\"aaxis\":{\"endlinecolor\":\"#2a3f5f\",\"gridcolor\":\"white\",\"linecolor\":\"white\",\"minorgridcolor\":\"white\",\"startlinecolor\":\"#2a3f5f\"},\"baxis\":{\"endlinecolor\":\"#2a3f5f\",\"gridcolor\":\"white\",\"linecolor\":\"white\",\"minorgridcolor\":\"white\",\"startlinecolor\":\"#2a3f5f\"},\"type\":\"carpet\"}],\"table\":[{\"cells\":{\"fill\":{\"color\":\"#EBF0F8\"},\"line\":{\"color\":\"white\"}},\"header\":{\"fill\":{\"color\":\"#C8D4E3\"},\"line\":{\"color\":\"white\"}},\"type\":\"table\"}],\"barpolar\":[{\"marker\":{\"line\":{\"color\":\"#E5ECF6\",\"width\":0.5},\"pattern\":{\"fillmode\":\"overlay\",\"size\":10,\"solidity\":0.2}},\"type\":\"barpolar\"}],\"pie\":[{\"automargin\":true,\"type\":\"pie\"}]},\"layout\":{\"autotypenumbers\":\"strict\",\"colorway\":[\"#636efa\",\"#EF553B\",\"#00cc96\",\"#ab63fa\",\"#FFA15A\",\"#19d3f3\",\"#FF6692\",\"#B6E880\",\"#FF97FF\",\"#FECB52\"],\"font\":{\"color\":\"#2a3f5f\"},\"hovermode\":\"closest\",\"hoverlabel\":{\"align\":\"left\"},\"paper_bgcolor\":\"white\",\"plot_bgcolor\":\"#E5ECF6\",\"polar\":{\"bgcolor\":\"#E5ECF6\",\"angularaxis\":{\"gridcolor\":\"white\",\"linecolor\":\"white\",\"ticks\":\"\"},\"radialaxis\":{\"gridcolor\":\"white\",\"linecolor\":\"white\",\"ticks\":\"\"}},\"ternary\":{\"bgcolor\":\"#E5ECF6\",\"aaxis\":{\"gridcolor\":\"white\",\"linecolor\":\"white\",\"ticks\":\"\"},\"baxis\":{\"gridcolor\":\"white\",\"linecolor\":\"white\",\"ticks\":\"\"},\"caxis\":{\"gridcolor\":\"white\",\"linecolor\":\"white\",\"ticks\":\"\"}},\"coloraxis\":{\"colorbar\":{\"outlinewidth\":0,\"ticks\":\"\"}},\"colorscale\":{\"sequential\":[[0.0,\"#0d0887\"],[0.1111111111111111,\"#46039f\"],[0.2222222222222222,\"#7201a8\"],[0.3333333333333333,\"#9c179e\"],[0.4444444444444444,\"#bd3786\"],[0.5555555555555556,\"#d8576b\"],[0.6666666666666666,\"#ed7953\"],[0.7777777777777778,\"#fb9f3a\"],[0.8888888888888888,\"#fdca26\"],[1.0,\"#f0f921\"]],\"sequentialminus\":[[0.0,\"#0d0887\"],[0.1111111111111111,\"#46039f\"],[0.2222222222222222,\"#7201a8\"],[0.3333333333333333,\"#9c179e\"],[0.4444444444444444,\"#bd3786\"],[0.5555555555555556,\"#d8576b\"],[0.6666666666666666,\"#ed7953\"],[0.7777777777777778,\"#fb9f3a\"],[0.8888888888888888,\"#fdca26\"],[1.0,\"#f0f921\"]],\"diverging\":[[0,\"#8e0152\"],[0.1,\"#c51b7d\"],[0.2,\"#de77ae\"],[0.3,\"#f1b6da\"],[0.4,\"#fde0ef\"],[0.5,\"#f7f7f7\"],[0.6,\"#e6f5d0\"],[0.7,\"#b8e186\"],[0.8,\"#7fbc41\"],[0.9,\"#4d9221\"],[1,\"#276419\"]]},\"xaxis\":{\"gridcolor\":\"white\",\"linecolor\":\"white\",\"ticks\":\"\",\"title\":{\"standoff\":15},\"zerolinecolor\":\"white\",\"automargin\":true,\"zerolinewidth\":2},\"yaxis\":{\"gridcolor\":\"white\",\"linecolor\":\"white\",\"ticks\":\"\",\"title\":{\"standoff\":15},\"zerolinecolor\":\"white\",\"automargin\":true,\"zerolinewidth\":2},\"scene\":{\"xaxis\":{\"backgroundcolor\":\"#E5ECF6\",\"gridcolor\":\"white\",\"linecolor\":\"white\",\"showbackground\":true,\"ticks\":\"\",\"zerolinecolor\":\"white\",\"gridwidth\":2},\"yaxis\":{\"backgroundcolor\":\"#E5ECF6\",\"gridcolor\":\"white\",\"linecolor\":\"white\",\"showbackground\":true,\"ticks\":\"\",\"zerolinecolor\":\"white\",\"gridwidth\":2},\"zaxis\":{\"backgroundcolor\":\"#E5ECF6\",\"gridcolor\":\"white\",\"linecolor\":\"white\",\"showbackground\":true,\"ticks\":\"\",\"zerolinecolor\":\"white\",\"gridwidth\":2}},\"shapedefaults\":{\"line\":{\"color\":\"#2a3f5f\"}},\"annotationdefaults\":{\"arrowcolor\":\"#2a3f5f\",\"arrowhead\":0,\"arrowwidth\":1},\"geo\":{\"bgcolor\":\"white\",\"landcolor\":\"#E5ECF6\",\"subunitcolor\":\"white\",\"showland\":true,\"showlakes\":true,\"lakecolor\":\"white\"},\"title\":{\"x\":0.05},\"mapbox\":{\"style\":\"light\"}}},\"plot_bgcolor\":\"rgba(255, 255, 255, 1)\",\"xaxis\":{\"showgrid\":true,\"gridwidth\":1,\"gridcolor\":\"LightGray\",\"tickvals\":[2,4,6,8,10,12,14],\"showline\":true,\"linewidth\":1,\"linecolor\":\"black\",\"mirror\":false,\"title\":{\"text\":\"Number of Clusters (k)\",\"font\":{\"family\":\"serif\",\"size\":20,\"color\":\"black\"}},\"tickfont\":{\"family\":\"serif\",\"size\":18,\"color\":\"black\"}},\"yaxis\":{\"showgrid\":true,\"gridwidth\":1,\"gridcolor\":\"LightGray\",\"tickvals\":[0.0,0.1,0.2,0.30000000000000004,0.4,0.5,0.6000000000000001,0.7000000000000001,0.8,0.9,1.0],\"showline\":true,\"linewidth\":1,\"linecolor\":\"black\",\"mirror\":false,\"title\":{\"text\":\"Clusterability\",\"font\":{\"family\":\"serif\",\"size\":20,\"color\":\"black\"}},\"range\":[0,0.7],\"tickfont\":{\"family\":\"serif\",\"size\":18,\"color\":\"black\"}},\"legend\":{\"x\":0.95,\"y\":0.95,\"xanchor\":\"right\",\"yanchor\":\"top\",\"bgcolor\":\"rgba(255, 255, 255, 0.8)\",\"bordercolor\":\"black\",\"borderwidth\":1},\"width\":500,\"height\":400,\"autosize\":false},                        {\"responsive\": true}                    ).then(function(){\n",
       "                            \n",
       "var gd = document.getElementById('ef73e334-b1ef-4967-b332-02184c95526f');\n",
       "var x = new MutationObserver(function (mutations, observer) {{\n",
       "        var display = window.getComputedStyle(gd).display;\n",
       "        if (!display || display === 'none') {{\n",
       "            console.log([gd, 'removed!']);\n",
       "            Plotly.purge(gd);\n",
       "            observer.disconnect();\n",
       "        }}\n",
       "}});\n",
       "\n",
       "// Listen for the removal of the full notebook cells\n",
       "var notebookContainer = gd.closest('#notebook-container');\n",
       "if (notebookContainer) {{\n",
       "    x.observe(notebookContainer, {childList: true});\n",
       "}}\n",
       "\n",
       "// Listen for the clearing of the current output cell\n",
       "var outputEl = gd.closest('.output');\n",
       "if (outputEl) {{\n",
       "    x.observe(outputEl, {childList: true});\n",
       "}}\n",
       "\n",
       "                        })                };                });            </script>        </div>"
      ]
     },
     "metadata": {},
     "output_type": "display_data"
    }
   ],
   "source": [
    "fig = go.Figure()\n",
    "fig.add_trace(go.Scatter(x=cluster_sizes, y=clusterability_scores.mean(axis=1)[:, 0], mode='lines+markers', name='Weight-based BSGC', line=dict(color='#CC0000')))\n",
    "fig.add_trace(go.Scatter(x=cluster_sizes, y=clusterability_scores.mean(axis=1)[:, 1], mode='lines+markers', name='Gradient-based BSGC', line=dict(color='#0000CC')))\n",
    "\n",
    "# Add random baseline (y = 1/x)\n",
    "random_baseline = [1/x for x in cluster_sizes]\n",
    "fig.add_trace(go.Scatter(x=cluster_sizes, y=random_baseline, mode='lines', name='Random Baseline', \n",
    "                         line=dict(color='black', width=3, dash='dash')))\n",
    "\n",
    "fig.update_layout({'plot_bgcolor': 'rgba(255, 255, 255, 1)',})\n",
    "fig.update_layout(\n",
    "    xaxis=dict(showgrid=True, gridwidth=1, gridcolor='LightGray'),\n",
    "    yaxis=dict(showgrid=True, gridwidth=1, gridcolor='LightGray'),\n",
    "    legend=dict(\n",
    "        x=0.95,\n",
    "        y=0.95,\n",
    "        xanchor='right',\n",
    "        yanchor='top',\n",
    "        bgcolor='rgba(255, 255, 255, 0.8)',\n",
    "        bordercolor='black',\n",
    "        borderwidth=1\n",
    "    )\n",
    ")\n",
    "fig.update_xaxes(tickvals=cluster_sizes)\n",
    "fig.update_yaxes(tickvals=np.arange(0, 1.1, 0.1))\n",
    "fig.update_xaxes(showline=True, linewidth=1, linecolor='black', mirror=False)\n",
    "fig.update_yaxes(showline=True, linewidth=1, linecolor='black', mirror=False)\n",
    "fig.update_xaxes(title_text='Number of Clusters (k)')\n",
    "fig.update_yaxes(title_text='Clusterability')\n",
    "fig.update_layout(width=500, height=400, autosize=False)\n",
    "fig.update_yaxes(range=[0, 0.7])\n",
    "fig.update_xaxes(title_font=dict(family='serif', size=20, color='black'))\n",
    "fig.update_yaxes(title_font=dict(family='serif', size=20, color='black'))\n",
    "fig.update_xaxes(tickfont=dict(family='serif', size=18, color='black'))\n",
    "fig.update_yaxes(tickfont=dict(family='serif', size=18, color='black'))\n",
    "fig.update_xaxes(showline=True, linewidth=1, linecolor='black', mirror=False)\n",
    "fig.update_yaxes(showline=True, linewidth=1, linecolor='black', mirror=False)\n",
    "\n",
    "fig.show()"
   ]
  },
  {
   "cell_type": "code",
   "execution_count": 49,
   "metadata": {},
   "outputs": [],
   "source": [
    "figures_path = Path('figures')\n",
    "\n",
    "if not figures_path.exists():\n",
    "    figures_path.mkdir()"
   ]
  },
  {
   "cell_type": "code",
   "execution_count": 50,
   "metadata": {},
   "outputs": [],
   "source": [
    "fig.write_image(str(figures_path / 'clusterability_scores.pdf'))"
   ]
  },
  {
   "cell_type": "markdown",
   "metadata": {},
   "source": [
    "This doesn't seem to be good enough for interpretability."
   ]
  },
  {
   "cell_type": "markdown",
   "metadata": {},
   "source": [
    "## 3. Optimizing for Modularity"
   ]
  },
  {
   "cell_type": "code",
   "execution_count": 41,
   "metadata": {},
   "outputs": [],
   "source": [
    "model = CNN().to(device)\n",
    "randomseed(42)"
   ]
  },
  {
   "cell_type": "code",
   "execution_count": 43,
   "metadata": {},
   "outputs": [
    {
     "name": "stdout",
     "output_type": "stream",
     "text": [
      "Cluster 0 has 16 nodes in U and 16 nodes in V\n",
      "Cluster 1 has 16 nodes in U and 16 nodes in V\n",
      "Cluster 2 has 16 nodes in U and 16 nodes in V\n",
      "Cluster 3 has 16 nodes in U and 16 nodes in V\n"
     ]
    }
   ],
   "source": [
    "num_clusters = 4\n",
    "similarity_matrix = model.fc2.weight\n",
    "input_size = similarity_matrix.shape[1]\n",
    "output_size = similarity_matrix.shape[0]\n",
    "\n",
    "nodes_per_cluster_U = input_size // num_clusters\n",
    "nodes_per_cluster_V = output_size // num_clusters\n",
    "\n",
    "cluster_U_indices = {}\n",
    "cluster_V_indices = {}\n",
    "\n",
    "for i in range(num_clusters):\n",
    "    start_idx_U = i * nodes_per_cluster_U\n",
    "    end_idx_U = start_idx_U + nodes_per_cluster_U if i < num_clusters - 1 else input_size\n",
    "    cluster_U_indices[i] = list(range(start_idx_U, end_idx_U))\n",
    "    \n",
    "    start_idx_V = i * nodes_per_cluster_V\n",
    "    end_idx_V = start_idx_V + nodes_per_cluster_V if i < num_clusters - 1 else output_size\n",
    "    cluster_V_indices[i] = list(range(start_idx_V, end_idx_V))\n",
    "\n",
    "for i in range(num_clusters):\n",
    "    print(f'Cluster {i} has {len(cluster_U_indices[i])} nodes in U and {len(cluster_V_indices[i])} nodes in V')"
   ]
  },
  {
   "cell_type": "code",
   "execution_count": 45,
   "metadata": {},
   "outputs": [
    {
     "name": "stdout",
     "output_type": "stream",
     "text": [
      "Clusterability score: 0.239\n"
     ]
    }
   ],
   "source": [
    "clusterability_score = clusterability(model, cluster_U_indices, cluster_V_indices)\n",
    "print(f'Clusterability score: {round(clusterability_score.item(), 3)}')"
   ]
  },
  {
   "cell_type": "markdown",
   "metadata": {},
   "source": [
    "### (c) Train the model with Clusterability"
   ]
  },
  {
   "cell_type": "code",
   "execution_count": 47,
   "metadata": {},
   "outputs": [
    {
     "name": "stdout",
     "output_type": "stream",
     "text": [
      "Epoch 1/10, Loss: -18.3475, Clusterability: 0.9999, Accuracy: 0.4873\n",
      "Epoch 2/10, Loss: -18.9488, Clusterability: 0.9999, Accuracy: 0.5437\n",
      "Epoch 3/10, Loss: -18.9767, Clusterability: 0.9999, Accuracy: 0.5910\n",
      "Epoch 4/10, Loss: -19.0499, Clusterability: 0.9998, Accuracy: 0.6291\n",
      "Epoch 5/10, Loss: -18.7698, Clusterability: 0.9998, Accuracy: 0.6387\n",
      "Epoch 6/10, Loss: -18.8655, Clusterability: 0.9998, Accuracy: 0.6344\n",
      "Epoch 7/10, Loss: -19.3721, Clusterability: 0.9998, Accuracy: 0.6448\n",
      "Epoch 8/10, Loss: -19.0225, Clusterability: 0.9998, Accuracy: 0.6604\n",
      "Epoch 9/10, Loss: -18.9060, Clusterability: 0.9998, Accuracy: 0.6519\n",
      "Epoch 10/10, Loss: -19.3666, Clusterability: 0.9999, Accuracy: 0.6604\n"
     ]
    }
   ],
   "source": [
    "cluster_losses = []\n",
    "ce_losses = []\n",
    "lomda = 20.0\n",
    "epochs = 10\n",
    "model = CNN().to(device)\n",
    "optimizer = optim.Adam(model.parameters(), lr=1e-3)\n",
    "\n",
    "randomseed(42)\n",
    "\n",
    "for epoch in range(epochs):\n",
    "    model.train()\n",
    "    for batch_idx, (data, target) in enumerate(train_loader):\n",
    "        data, target = data.to(device), target.to(device)\n",
    "        optimizer.zero_grad()\n",
    "        output = model(data)\n",
    "        loss_ce = criterion(output, target)\n",
    "        loss_cluster = clusterability(model, cluster_U_indices, cluster_V_indices)\n",
    "        cluster_losses.append(loss_cluster.item())\n",
    "        ce_losses.append(loss_ce.item())\n",
    "        loss = loss_ce - lomda * loss_cluster\n",
    "        loss.backward()\n",
    "        optimizer.step()\n",
    "    acc = accuracy(model, test_loader)\n",
    "    print(f'Epoch {epoch+1}/{epochs}, Loss: {loss.item():.4f}, Clusterability: {loss_cluster.item():.4f}, Accuracy: {acc:.4f}')"
   ]
  },
  {
   "cell_type": "markdown",
   "metadata": {},
   "source": [
    "### (d) Store our clusters and the clustered model"
   ]
  },
  {
   "cell_type": "code",
   "execution_count": 51,
   "metadata": {},
   "outputs": [],
   "source": [
    "path: str = f'results/{dataset}/'\n",
    "Path(path).mkdir(parents=True, exist_ok=True)\n",
    "\n",
    "torch.save(model.state_dict(), f'{path}model.pth')\n",
    "torch.save(cluster_U_indices, f'{path}cluster_U_indices.pth')\n",
    "torch.save(cluster_V_indices, f'{path}cluster_V_indices.pth')"
   ]
  },
  {
   "cell_type": "markdown",
   "metadata": {},
   "source": [
    "## 4. Interpreting the Clusters"
   ]
  },
  {
   "cell_type": "code",
   "execution_count": 53,
   "metadata": {},
   "outputs": [],
   "source": [
    "path: str = f'results/{dataset}/'\n",
    "\n",
    "# load the model and cluster indices\n",
    "model = CNN().to(device)\n",
    "model.load_state_dict(torch.load(f'{path}model.pth', weights_only=True))\n",
    "cluster_U_indices = torch.load(f'{path}cluster_U_indices.pth', weights_only=True)\n",
    "cluster_V_indices = torch.load(f'{path}cluster_V_indices.pth', weights_only=True)"
   ]
  },
  {
   "cell_type": "code",
   "execution_count": 54,
   "metadata": {},
   "outputs": [
    {
     "data": {
      "text/plain": [
       "[0.755, 0.794, 0.443, 0.505, 0.635, 0.551, 0.797, 0.697, 0.699, 0.728]"
      ]
     },
     "execution_count": 54,
     "metadata": {},
     "output_type": "execute_result"
    }
   ],
   "source": [
    "classwise_accuracies = classwise_accuracy(model, test_loader)\n",
    "classwise_accuracies"
   ]
  },
  {
   "cell_type": "code",
   "execution_count": 55,
   "metadata": {},
   "outputs": [
    {
     "data": {
      "text/plain": [
       "4"
      ]
     },
     "execution_count": 55,
     "metadata": {},
     "output_type": "execute_result"
    }
   ],
   "source": [
    "num_clusters = len(cluster_U_indices)\n",
    "num_clusters"
   ]
  },
  {
   "cell_type": "markdown",
   "metadata": {},
   "source": [
    "### (a) Classwise accuracies with individual clusters turned ON and OFF"
   ]
  },
  {
   "cell_type": "code",
   "execution_count": 58,
   "metadata": {},
   "outputs": [
    {
     "name": "stderr",
     "output_type": "stream",
     "text": [
      "100%|██████████| 4/4 [00:03<00:00,  1.10it/s]\n",
      "100%|██████████| 4/4 [00:03<00:00,  1.10it/s]\n"
     ]
    },
    {
     "data": {
      "text/plain": [
       "<All keys matched successfully>"
      ]
     },
     "execution_count": 58,
     "metadata": {},
     "output_type": "execute_result"
    }
   ],
   "source": [
    "num_clusters = len(cluster_U_indices)\n",
    "\n",
    "classwise_accuracies_off = []\n",
    "classwise_accuracies_on = []\n",
    "\n",
    "for cluster_idx in tqdm.trange(num_clusters):\n",
    "    model = CNN().to(device)\n",
    "    model.load_state_dict(torch.load(path + 'model.pth', weights_only=True))\n",
    "    \n",
    "    for i in cluster_U_indices[cluster_idx]:\n",
    "        model.fc2.weight.data[i] = 0\n",
    "    for i in cluster_V_indices[cluster_idx]:\n",
    "        model.fc2.weight.data[:, i] = 0\n",
    "    \n",
    "    classwise_accuracies_off.append(classwise_accuracy(model, test_loader))\n",
    "\n",
    "model.load_state_dict(torch.load(path + 'model.pth', weights_only=True))\n",
    "\n",
    "classwise_accuracies = []\n",
    "\n",
    "for cluster_idx in tqdm.trange(num_clusters):\n",
    "    model = CNN().to(device)\n",
    "    model.load_state_dict(torch.load(path + 'model.pth', weights_only=True))\n",
    "    \n",
    "    for i in range(num_clusters):\n",
    "        if i != cluster_idx:\n",
    "            for j in cluster_U_indices[i]:\n",
    "                model.fc2.weight.data[j] = 0\n",
    "            for j in cluster_V_indices[i]:\n",
    "                model.fc2.weight.data[:, j] = 0\n",
    "    \n",
    "    classwise_accuracies_on.append(classwise_accuracy(model, test_loader))\n",
    "\n",
    "model.load_state_dict(torch.load(path + 'model.pth', weights_only=True))"
   ]
  },
  {
   "cell_type": "code",
   "execution_count": 59,
   "metadata": {},
   "outputs": [],
   "source": [
    "cifar_labels = ['airplane', 'automobile', 'bird', 'cat', 'deer', 'dog', 'frog', 'horse', 'ship', 'truck']"
   ]
  },
  {
   "cell_type": "code",
   "execution_count": 61,
   "metadata": {},
   "outputs": [
    {
     "data": {
      "application/vnd.plotly.v1+json": {
       "config": {
        "plotlyServerURL": "https://plot.ly"
       },
       "data": [
        {
         "marker": {
          "color": "#AF0038"
         },
         "name": "Cluster 0 (ON)",
         "type": "bar",
         "x": [
          "airplane",
          "automobile",
          "bird",
          "cat",
          "deer",
          "dog",
          "frog",
          "horse",
          "ship",
          "truck"
         ],
         "xaxis": "x",
         "y": [
          0.001,
          0,
          0.272,
          0.83,
          0,
          0,
          0.569,
          0.786,
          0.701,
          0
         ],
         "yaxis": "y"
        },
        {
         "marker": {
          "color": "#AF0038"
         },
         "name": "Cluster 0 (OFF)",
         "type": "bar",
         "x": [
          "airplane",
          "automobile",
          "bird",
          "cat",
          "deer",
          "dog",
          "frog",
          "horse",
          "ship",
          "truck"
         ],
         "xaxis": "x5",
         "y": [
          0.736,
          0.869,
          0.167,
          0.006,
          0.818,
          0.53,
          0.691,
          0.018,
          0.443,
          0.735
         ],
         "yaxis": "y5"
        },
        {
         "marker": {
          "color": "#0D2A63"
         },
         "name": "Cluster 1 (ON)",
         "type": "bar",
         "x": [
          "airplane",
          "automobile",
          "bird",
          "cat",
          "deer",
          "dog",
          "frog",
          "horse",
          "ship",
          "truck"
         ],
         "xaxis": "x2",
         "y": [
          0.001,
          0.923,
          0,
          0,
          0,
          0.014,
          0,
          0,
          0.827,
          0.134
         ],
         "yaxis": "y2"
        },
        {
         "marker": {
          "color": "#0D2A63"
         },
         "name": "Cluster 1 (OFF)",
         "type": "bar",
         "x": [
          "airplane",
          "automobile",
          "bird",
          "cat",
          "deer",
          "dog",
          "frog",
          "horse",
          "ship",
          "truck"
         ],
         "xaxis": "x6",
         "y": [
          0.726,
          0.006,
          0.475,
          0.636,
          0.615,
          0.324,
          0.73,
          0.76,
          0.146,
          0.24
         ],
         "yaxis": "y6"
        },
        {
         "marker": {
          "color": "#EB663B"
         },
         "name": "Cluster 2 (ON)",
         "type": "bar",
         "x": [
          "airplane",
          "automobile",
          "bird",
          "cat",
          "deer",
          "dog",
          "frog",
          "horse",
          "ship",
          "truck"
         ],
         "xaxis": "x3",
         "y": [
          0.211,
          0.028,
          0.573,
          0.031,
          0.418,
          0,
          0.477,
          0.048,
          0.021,
          0.563
         ],
         "yaxis": "y3"
        },
        {
         "marker": {
          "color": "#EB663B"
         },
         "name": "Cluster 2 (OFF)",
         "type": "bar",
         "x": [
          "airplane",
          "automobile",
          "bird",
          "cat",
          "deer",
          "dog",
          "frog",
          "horse",
          "ship",
          "truck"
         ],
         "xaxis": "x7",
         "y": [
          0.63,
          0.824,
          0.236,
          0.48,
          0.022,
          0.625,
          0.83,
          0.699,
          0.8,
          0.573
         ],
         "yaxis": "y7"
        },
        {
         "marker": {
          "color": "#620042"
         },
         "name": "Cluster 3 (ON)",
         "type": "bar",
         "x": [
          "airplane",
          "automobile",
          "bird",
          "cat",
          "deer",
          "dog",
          "frog",
          "horse",
          "ship",
          "truck"
         ],
         "xaxis": "x4",
         "y": [
          0.85,
          0,
          0.011,
          0,
          0.019,
          0.656,
          0.805,
          0.106,
          0,
          0
         ],
         "yaxis": "y4"
        },
        {
         "marker": {
          "color": "#620042"
         },
         "name": "Cluster 3 (OFF)",
         "type": "bar",
         "x": [
          "airplane",
          "automobile",
          "bird",
          "cat",
          "deer",
          "dog",
          "frog",
          "horse",
          "ship",
          "truck"
         ],
         "xaxis": "x8",
         "y": [
          0.316,
          0.798,
          0.589,
          0.584,
          0.263,
          0.167,
          0.539,
          0.661,
          0.903,
          0.454
         ],
         "yaxis": "y8"
        }
       ],
       "layout": {
        "annotations": [
         {
          "font": {
           "size": 16
          },
          "showarrow": false,
          "text": "Cluster 0 (ON)",
          "x": 0.10625,
          "xanchor": "center",
          "xref": "paper",
          "y": 1,
          "yanchor": "bottom",
          "yref": "paper"
         },
         {
          "font": {
           "size": 16
          },
          "showarrow": false,
          "text": "Cluster 1 (ON)",
          "x": 0.36875,
          "xanchor": "center",
          "xref": "paper",
          "y": 1,
          "yanchor": "bottom",
          "yref": "paper"
         },
         {
          "font": {
           "size": 16
          },
          "showarrow": false,
          "text": "Cluster 2 (ON)",
          "x": 0.6312500000000001,
          "xanchor": "center",
          "xref": "paper",
          "y": 1,
          "yanchor": "bottom",
          "yref": "paper"
         },
         {
          "font": {
           "size": 16
          },
          "showarrow": false,
          "text": "Cluster 3 (ON)",
          "x": 0.89375,
          "xanchor": "center",
          "xref": "paper",
          "y": 1,
          "yanchor": "bottom",
          "yref": "paper"
         },
         {
          "font": {
           "size": 16
          },
          "showarrow": false,
          "text": "Cluster 0 (OFF)",
          "x": 0.10625,
          "xanchor": "center",
          "xref": "paper",
          "y": 0.45,
          "yanchor": "bottom",
          "yref": "paper"
         },
         {
          "font": {
           "size": 16
          },
          "showarrow": false,
          "text": "Cluster 1 (OFF)",
          "x": 0.36875,
          "xanchor": "center",
          "xref": "paper",
          "y": 0.45,
          "yanchor": "bottom",
          "yref": "paper"
         },
         {
          "font": {
           "size": 16
          },
          "showarrow": false,
          "text": "Cluster 2 (OFF)",
          "x": 0.6312500000000001,
          "xanchor": "center",
          "xref": "paper",
          "y": 0.45,
          "yanchor": "bottom",
          "yref": "paper"
         },
         {
          "font": {
           "size": 16
          },
          "showarrow": false,
          "text": "Cluster 3 (OFF)",
          "x": 0.89375,
          "xanchor": "center",
          "xref": "paper",
          "y": 0.45,
          "yanchor": "bottom",
          "yref": "paper"
         },
         {
          "align": "center",
          "font": {
           "family": "Computer Modern",
           "size": 22
          },
          "showarrow": false,
          "text": "Accuracy",
          "textangle": -90,
          "x": -0.1,
          "xref": "paper",
          "y": 0.5,
          "yref": "paper"
         },
         {
          "align": "center",
          "font": {
           "family": "Computer Modern",
           "size": 22
          },
          "showarrow": false,
          "text": "Class",
          "x": 0.5,
          "xref": "paper",
          "y": -0.35,
          "yref": "paper"
         }
        ],
        "font": {
         "color": "black",
         "family": "serif",
         "size": 20
        },
        "height": 560,
        "margin": {
         "b": 140,
         "t": 50
        },
        "plot_bgcolor": "white",
        "showlegend": false,
        "template": {
         "data": {
          "bar": [
           {
            "error_x": {
             "color": "#2a3f5f"
            },
            "error_y": {
             "color": "#2a3f5f"
            },
            "marker": {
             "line": {
              "color": "#E5ECF6",
              "width": 0.5
             },
             "pattern": {
              "fillmode": "overlay",
              "size": 10,
              "solidity": 0.2
             }
            },
            "type": "bar"
           }
          ],
          "barpolar": [
           {
            "marker": {
             "line": {
              "color": "#E5ECF6",
              "width": 0.5
             },
             "pattern": {
              "fillmode": "overlay",
              "size": 10,
              "solidity": 0.2
             }
            },
            "type": "barpolar"
           }
          ],
          "carpet": [
           {
            "aaxis": {
             "endlinecolor": "#2a3f5f",
             "gridcolor": "white",
             "linecolor": "white",
             "minorgridcolor": "white",
             "startlinecolor": "#2a3f5f"
            },
            "baxis": {
             "endlinecolor": "#2a3f5f",
             "gridcolor": "white",
             "linecolor": "white",
             "minorgridcolor": "white",
             "startlinecolor": "#2a3f5f"
            },
            "type": "carpet"
           }
          ],
          "choropleth": [
           {
            "colorbar": {
             "outlinewidth": 0,
             "ticks": ""
            },
            "type": "choropleth"
           }
          ],
          "contour": [
           {
            "colorbar": {
             "outlinewidth": 0,
             "ticks": ""
            },
            "colorscale": [
             [
              0,
              "#0d0887"
             ],
             [
              0.1111111111111111,
              "#46039f"
             ],
             [
              0.2222222222222222,
              "#7201a8"
             ],
             [
              0.3333333333333333,
              "#9c179e"
             ],
             [
              0.4444444444444444,
              "#bd3786"
             ],
             [
              0.5555555555555556,
              "#d8576b"
             ],
             [
              0.6666666666666666,
              "#ed7953"
             ],
             [
              0.7777777777777778,
              "#fb9f3a"
             ],
             [
              0.8888888888888888,
              "#fdca26"
             ],
             [
              1,
              "#f0f921"
             ]
            ],
            "type": "contour"
           }
          ],
          "contourcarpet": [
           {
            "colorbar": {
             "outlinewidth": 0,
             "ticks": ""
            },
            "type": "contourcarpet"
           }
          ],
          "heatmap": [
           {
            "colorbar": {
             "outlinewidth": 0,
             "ticks": ""
            },
            "colorscale": [
             [
              0,
              "#0d0887"
             ],
             [
              0.1111111111111111,
              "#46039f"
             ],
             [
              0.2222222222222222,
              "#7201a8"
             ],
             [
              0.3333333333333333,
              "#9c179e"
             ],
             [
              0.4444444444444444,
              "#bd3786"
             ],
             [
              0.5555555555555556,
              "#d8576b"
             ],
             [
              0.6666666666666666,
              "#ed7953"
             ],
             [
              0.7777777777777778,
              "#fb9f3a"
             ],
             [
              0.8888888888888888,
              "#fdca26"
             ],
             [
              1,
              "#f0f921"
             ]
            ],
            "type": "heatmap"
           }
          ],
          "heatmapgl": [
           {
            "colorbar": {
             "outlinewidth": 0,
             "ticks": ""
            },
            "colorscale": [
             [
              0,
              "#0d0887"
             ],
             [
              0.1111111111111111,
              "#46039f"
             ],
             [
              0.2222222222222222,
              "#7201a8"
             ],
             [
              0.3333333333333333,
              "#9c179e"
             ],
             [
              0.4444444444444444,
              "#bd3786"
             ],
             [
              0.5555555555555556,
              "#d8576b"
             ],
             [
              0.6666666666666666,
              "#ed7953"
             ],
             [
              0.7777777777777778,
              "#fb9f3a"
             ],
             [
              0.8888888888888888,
              "#fdca26"
             ],
             [
              1,
              "#f0f921"
             ]
            ],
            "type": "heatmapgl"
           }
          ],
          "histogram": [
           {
            "marker": {
             "pattern": {
              "fillmode": "overlay",
              "size": 10,
              "solidity": 0.2
             }
            },
            "type": "histogram"
           }
          ],
          "histogram2d": [
           {
            "colorbar": {
             "outlinewidth": 0,
             "ticks": ""
            },
            "colorscale": [
             [
              0,
              "#0d0887"
             ],
             [
              0.1111111111111111,
              "#46039f"
             ],
             [
              0.2222222222222222,
              "#7201a8"
             ],
             [
              0.3333333333333333,
              "#9c179e"
             ],
             [
              0.4444444444444444,
              "#bd3786"
             ],
             [
              0.5555555555555556,
              "#d8576b"
             ],
             [
              0.6666666666666666,
              "#ed7953"
             ],
             [
              0.7777777777777778,
              "#fb9f3a"
             ],
             [
              0.8888888888888888,
              "#fdca26"
             ],
             [
              1,
              "#f0f921"
             ]
            ],
            "type": "histogram2d"
           }
          ],
          "histogram2dcontour": [
           {
            "colorbar": {
             "outlinewidth": 0,
             "ticks": ""
            },
            "colorscale": [
             [
              0,
              "#0d0887"
             ],
             [
              0.1111111111111111,
              "#46039f"
             ],
             [
              0.2222222222222222,
              "#7201a8"
             ],
             [
              0.3333333333333333,
              "#9c179e"
             ],
             [
              0.4444444444444444,
              "#bd3786"
             ],
             [
              0.5555555555555556,
              "#d8576b"
             ],
             [
              0.6666666666666666,
              "#ed7953"
             ],
             [
              0.7777777777777778,
              "#fb9f3a"
             ],
             [
              0.8888888888888888,
              "#fdca26"
             ],
             [
              1,
              "#f0f921"
             ]
            ],
            "type": "histogram2dcontour"
           }
          ],
          "mesh3d": [
           {
            "colorbar": {
             "outlinewidth": 0,
             "ticks": ""
            },
            "type": "mesh3d"
           }
          ],
          "parcoords": [
           {
            "line": {
             "colorbar": {
              "outlinewidth": 0,
              "ticks": ""
             }
            },
            "type": "parcoords"
           }
          ],
          "pie": [
           {
            "automargin": true,
            "type": "pie"
           }
          ],
          "scatter": [
           {
            "fillpattern": {
             "fillmode": "overlay",
             "size": 10,
             "solidity": 0.2
            },
            "type": "scatter"
           }
          ],
          "scatter3d": [
           {
            "line": {
             "colorbar": {
              "outlinewidth": 0,
              "ticks": ""
             }
            },
            "marker": {
             "colorbar": {
              "outlinewidth": 0,
              "ticks": ""
             }
            },
            "type": "scatter3d"
           }
          ],
          "scattercarpet": [
           {
            "marker": {
             "colorbar": {
              "outlinewidth": 0,
              "ticks": ""
             }
            },
            "type": "scattercarpet"
           }
          ],
          "scattergeo": [
           {
            "marker": {
             "colorbar": {
              "outlinewidth": 0,
              "ticks": ""
             }
            },
            "type": "scattergeo"
           }
          ],
          "scattergl": [
           {
            "marker": {
             "colorbar": {
              "outlinewidth": 0,
              "ticks": ""
             }
            },
            "type": "scattergl"
           }
          ],
          "scattermapbox": [
           {
            "marker": {
             "colorbar": {
              "outlinewidth": 0,
              "ticks": ""
             }
            },
            "type": "scattermapbox"
           }
          ],
          "scatterpolar": [
           {
            "marker": {
             "colorbar": {
              "outlinewidth": 0,
              "ticks": ""
             }
            },
            "type": "scatterpolar"
           }
          ],
          "scatterpolargl": [
           {
            "marker": {
             "colorbar": {
              "outlinewidth": 0,
              "ticks": ""
             }
            },
            "type": "scatterpolargl"
           }
          ],
          "scatterternary": [
           {
            "marker": {
             "colorbar": {
              "outlinewidth": 0,
              "ticks": ""
             }
            },
            "type": "scatterternary"
           }
          ],
          "surface": [
           {
            "colorbar": {
             "outlinewidth": 0,
             "ticks": ""
            },
            "colorscale": [
             [
              0,
              "#0d0887"
             ],
             [
              0.1111111111111111,
              "#46039f"
             ],
             [
              0.2222222222222222,
              "#7201a8"
             ],
             [
              0.3333333333333333,
              "#9c179e"
             ],
             [
              0.4444444444444444,
              "#bd3786"
             ],
             [
              0.5555555555555556,
              "#d8576b"
             ],
             [
              0.6666666666666666,
              "#ed7953"
             ],
             [
              0.7777777777777778,
              "#fb9f3a"
             ],
             [
              0.8888888888888888,
              "#fdca26"
             ],
             [
              1,
              "#f0f921"
             ]
            ],
            "type": "surface"
           }
          ],
          "table": [
           {
            "cells": {
             "fill": {
              "color": "#EBF0F8"
             },
             "line": {
              "color": "white"
             }
            },
            "header": {
             "fill": {
              "color": "#C8D4E3"
             },
             "line": {
              "color": "white"
             }
            },
            "type": "table"
           }
          ]
         },
         "layout": {
          "annotationdefaults": {
           "arrowcolor": "#2a3f5f",
           "arrowhead": 0,
           "arrowwidth": 1
          },
          "autotypenumbers": "strict",
          "coloraxis": {
           "colorbar": {
            "outlinewidth": 0,
            "ticks": ""
           }
          },
          "colorscale": {
           "diverging": [
            [
             0,
             "#8e0152"
            ],
            [
             0.1,
             "#c51b7d"
            ],
            [
             0.2,
             "#de77ae"
            ],
            [
             0.3,
             "#f1b6da"
            ],
            [
             0.4,
             "#fde0ef"
            ],
            [
             0.5,
             "#f7f7f7"
            ],
            [
             0.6,
             "#e6f5d0"
            ],
            [
             0.7,
             "#b8e186"
            ],
            [
             0.8,
             "#7fbc41"
            ],
            [
             0.9,
             "#4d9221"
            ],
            [
             1,
             "#276419"
            ]
           ],
           "sequential": [
            [
             0,
             "#0d0887"
            ],
            [
             0.1111111111111111,
             "#46039f"
            ],
            [
             0.2222222222222222,
             "#7201a8"
            ],
            [
             0.3333333333333333,
             "#9c179e"
            ],
            [
             0.4444444444444444,
             "#bd3786"
            ],
            [
             0.5555555555555556,
             "#d8576b"
            ],
            [
             0.6666666666666666,
             "#ed7953"
            ],
            [
             0.7777777777777778,
             "#fb9f3a"
            ],
            [
             0.8888888888888888,
             "#fdca26"
            ],
            [
             1,
             "#f0f921"
            ]
           ],
           "sequentialminus": [
            [
             0,
             "#0d0887"
            ],
            [
             0.1111111111111111,
             "#46039f"
            ],
            [
             0.2222222222222222,
             "#7201a8"
            ],
            [
             0.3333333333333333,
             "#9c179e"
            ],
            [
             0.4444444444444444,
             "#bd3786"
            ],
            [
             0.5555555555555556,
             "#d8576b"
            ],
            [
             0.6666666666666666,
             "#ed7953"
            ],
            [
             0.7777777777777778,
             "#fb9f3a"
            ],
            [
             0.8888888888888888,
             "#fdca26"
            ],
            [
             1,
             "#f0f921"
            ]
           ]
          },
          "colorway": [
           "#636efa",
           "#EF553B",
           "#00cc96",
           "#ab63fa",
           "#FFA15A",
           "#19d3f3",
           "#FF6692",
           "#B6E880",
           "#FF97FF",
           "#FECB52"
          ],
          "font": {
           "color": "#2a3f5f"
          },
          "geo": {
           "bgcolor": "white",
           "lakecolor": "white",
           "landcolor": "#E5ECF6",
           "showlakes": true,
           "showland": true,
           "subunitcolor": "white"
          },
          "hoverlabel": {
           "align": "left"
          },
          "hovermode": "closest",
          "mapbox": {
           "style": "light"
          },
          "paper_bgcolor": "white",
          "plot_bgcolor": "#E5ECF6",
          "polar": {
           "angularaxis": {
            "gridcolor": "white",
            "linecolor": "white",
            "ticks": ""
           },
           "bgcolor": "#E5ECF6",
           "radialaxis": {
            "gridcolor": "white",
            "linecolor": "white",
            "ticks": ""
           }
          },
          "scene": {
           "xaxis": {
            "backgroundcolor": "#E5ECF6",
            "gridcolor": "white",
            "gridwidth": 2,
            "linecolor": "white",
            "showbackground": true,
            "ticks": "",
            "zerolinecolor": "white"
           },
           "yaxis": {
            "backgroundcolor": "#E5ECF6",
            "gridcolor": "white",
            "gridwidth": 2,
            "linecolor": "white",
            "showbackground": true,
            "ticks": "",
            "zerolinecolor": "white"
           },
           "zaxis": {
            "backgroundcolor": "#E5ECF6",
            "gridcolor": "white",
            "gridwidth": 2,
            "linecolor": "white",
            "showbackground": true,
            "ticks": "",
            "zerolinecolor": "white"
           }
          },
          "shapedefaults": {
           "line": {
            "color": "#2a3f5f"
           }
          },
          "ternary": {
           "aaxis": {
            "gridcolor": "white",
            "linecolor": "white",
            "ticks": ""
           },
           "baxis": {
            "gridcolor": "white",
            "linecolor": "white",
            "ticks": ""
           },
           "bgcolor": "#E5ECF6",
           "caxis": {
            "gridcolor": "white",
            "linecolor": "white",
            "ticks": ""
           }
          },
          "title": {
           "x": 0.05
          },
          "xaxis": {
           "automargin": true,
           "gridcolor": "white",
           "linecolor": "white",
           "ticks": "",
           "title": {
            "standoff": 15
           },
           "zerolinecolor": "white",
           "zerolinewidth": 2
          },
          "yaxis": {
           "automargin": true,
           "gridcolor": "white",
           "linecolor": "white",
           "ticks": "",
           "title": {
            "standoff": 15
           },
           "zerolinecolor": "white",
           "zerolinewidth": 2
          }
         }
        },
        "width": 1000,
        "xaxis": {
         "anchor": "y",
         "domain": [
          0,
          0.2125
         ],
         "linecolor": "black",
         "linewidth": 1,
         "matches": "x5",
         "mirror": false,
         "showline": true,
         "showticklabels": false,
         "tickangle": -90,
         "tickfont": {
          "color": "black",
          "family": "serif",
          "size": 18
         },
         "tickvals": [
          0,
          1,
          2,
          3,
          4,
          5,
          6,
          7,
          8,
          9
         ],
         "title": {
          "font": {
           "color": "black",
           "family": "serif",
           "size": 20
          }
         }
        },
        "xaxis2": {
         "anchor": "y2",
         "domain": [
          0.2625,
          0.475
         ],
         "linecolor": "black",
         "linewidth": 1,
         "matches": "x6",
         "mirror": false,
         "showline": true,
         "showticklabels": false,
         "tickangle": -90,
         "tickfont": {
          "color": "black",
          "family": "serif",
          "size": 18
         },
         "tickvals": [
          0,
          1,
          2,
          3,
          4,
          5,
          6,
          7,
          8,
          9
         ],
         "title": {
          "font": {
           "color": "black",
           "family": "serif",
           "size": 20
          }
         }
        },
        "xaxis3": {
         "anchor": "y3",
         "domain": [
          0.525,
          0.7375
         ],
         "linecolor": "black",
         "linewidth": 1,
         "matches": "x7",
         "mirror": false,
         "showline": true,
         "showticklabels": false,
         "tickangle": -90,
         "tickfont": {
          "color": "black",
          "family": "serif",
          "size": 18
         },
         "tickvals": [
          0,
          1,
          2,
          3,
          4,
          5,
          6,
          7,
          8,
          9
         ],
         "title": {
          "font": {
           "color": "black",
           "family": "serif",
           "size": 20
          }
         }
        },
        "xaxis4": {
         "anchor": "y4",
         "domain": [
          0.7875,
          1
         ],
         "linecolor": "black",
         "linewidth": 1,
         "matches": "x8",
         "mirror": false,
         "showline": true,
         "showticklabels": false,
         "tickangle": -90,
         "tickfont": {
          "color": "black",
          "family": "serif",
          "size": 18
         },
         "tickvals": [
          0,
          1,
          2,
          3,
          4,
          5,
          6,
          7,
          8,
          9
         ],
         "title": {
          "font": {
           "color": "black",
           "family": "serif",
           "size": 20
          }
         }
        },
        "xaxis5": {
         "anchor": "y5",
         "domain": [
          0,
          0.2125
         ],
         "linecolor": "black",
         "linewidth": 1,
         "mirror": false,
         "showline": true,
         "tickangle": -90,
         "tickfont": {
          "color": "black",
          "family": "serif",
          "size": 18
         },
         "tickvals": [
          0,
          1,
          2,
          3,
          4,
          5,
          6,
          7,
          8,
          9
         ],
         "title": {
          "font": {
           "color": "black",
           "family": "serif",
           "size": 20
          }
         }
        },
        "xaxis6": {
         "anchor": "y6",
         "domain": [
          0.2625,
          0.475
         ],
         "linecolor": "black",
         "linewidth": 1,
         "mirror": false,
         "showline": true,
         "tickangle": -90,
         "tickfont": {
          "color": "black",
          "family": "serif",
          "size": 18
         },
         "tickvals": [
          0,
          1,
          2,
          3,
          4,
          5,
          6,
          7,
          8,
          9
         ],
         "title": {
          "font": {
           "color": "black",
           "family": "serif",
           "size": 20
          }
         }
        },
        "xaxis7": {
         "anchor": "y7",
         "domain": [
          0.525,
          0.7375
         ],
         "linecolor": "black",
         "linewidth": 1,
         "mirror": false,
         "showline": true,
         "tickangle": -90,
         "tickfont": {
          "color": "black",
          "family": "serif",
          "size": 18
         },
         "tickvals": [
          0,
          1,
          2,
          3,
          4,
          5,
          6,
          7,
          8,
          9
         ],
         "title": {
          "font": {
           "color": "black",
           "family": "serif",
           "size": 20
          }
         }
        },
        "xaxis8": {
         "anchor": "y8",
         "domain": [
          0.7875,
          1
         ],
         "linecolor": "black",
         "linewidth": 1,
         "mirror": false,
         "showline": true,
         "tickangle": -90,
         "tickfont": {
          "color": "black",
          "family": "serif",
          "size": 18
         },
         "tickvals": [
          0,
          1,
          2,
          3,
          4,
          5,
          6,
          7,
          8,
          9
         ],
         "title": {
          "font": {
           "color": "black",
           "family": "serif",
           "size": 20
          }
         }
        },
        "yaxis": {
         "anchor": "x",
         "domain": [
          0.55,
          1
         ],
         "gridcolor": "LightGray",
         "gridwidth": 1,
         "range": [
          0,
          1
         ],
         "showgrid": true,
         "tickfont": {
          "color": "black",
          "family": "serif",
          "size": 18
         },
         "tickvals": [
          0,
          0.2,
          0.4,
          0.6000000000000001,
          0.8
         ],
         "title": {
          "font": {
           "color": "black",
           "family": "serif",
           "size": 20
          }
         }
        },
        "yaxis2": {
         "anchor": "x2",
         "domain": [
          0.55,
          1
         ],
         "gridcolor": "LightGray",
         "gridwidth": 1,
         "matches": "y",
         "range": [
          0,
          1
         ],
         "showgrid": true,
         "showticklabels": false,
         "tickfont": {
          "color": "black",
          "family": "serif",
          "size": 18
         },
         "tickvals": [
          0,
          0.2,
          0.4,
          0.6000000000000001,
          0.8
         ],
         "title": {
          "font": {
           "color": "black",
           "family": "serif",
           "size": 20
          }
         }
        },
        "yaxis3": {
         "anchor": "x3",
         "domain": [
          0.55,
          1
         ],
         "gridcolor": "LightGray",
         "gridwidth": 1,
         "matches": "y",
         "range": [
          0,
          1
         ],
         "showgrid": true,
         "showticklabels": false,
         "tickfont": {
          "color": "black",
          "family": "serif",
          "size": 18
         },
         "tickvals": [
          0,
          0.2,
          0.4,
          0.6000000000000001,
          0.8
         ],
         "title": {
          "font": {
           "color": "black",
           "family": "serif",
           "size": 20
          }
         }
        },
        "yaxis4": {
         "anchor": "x4",
         "domain": [
          0.55,
          1
         ],
         "gridcolor": "LightGray",
         "gridwidth": 1,
         "matches": "y",
         "range": [
          0,
          1
         ],
         "showgrid": true,
         "showticklabels": false,
         "tickfont": {
          "color": "black",
          "family": "serif",
          "size": 18
         },
         "tickvals": [
          0,
          0.2,
          0.4,
          0.6000000000000001,
          0.8
         ],
         "title": {
          "font": {
           "color": "black",
           "family": "serif",
           "size": 20
          }
         }
        },
        "yaxis5": {
         "anchor": "x5",
         "domain": [
          0,
          0.45
         ],
         "gridcolor": "LightGray",
         "gridwidth": 1,
         "range": [
          0,
          1
         ],
         "showgrid": true,
         "tickfont": {
          "color": "black",
          "family": "serif",
          "size": 18
         },
         "tickvals": [
          0,
          0.2,
          0.4,
          0.6000000000000001,
          0.8
         ],
         "title": {
          "font": {
           "color": "black",
           "family": "serif",
           "size": 20
          }
         }
        },
        "yaxis6": {
         "anchor": "x6",
         "domain": [
          0,
          0.45
         ],
         "gridcolor": "LightGray",
         "gridwidth": 1,
         "matches": "y5",
         "range": [
          0,
          1
         ],
         "showgrid": true,
         "showticklabels": false,
         "tickfont": {
          "color": "black",
          "family": "serif",
          "size": 18
         },
         "tickvals": [
          0,
          0.2,
          0.4,
          0.6000000000000001,
          0.8
         ],
         "title": {
          "font": {
           "color": "black",
           "family": "serif",
           "size": 20
          }
         }
        },
        "yaxis7": {
         "anchor": "x7",
         "domain": [
          0,
          0.45
         ],
         "gridcolor": "LightGray",
         "gridwidth": 1,
         "matches": "y5",
         "range": [
          0,
          1
         ],
         "showgrid": true,
         "showticklabels": false,
         "tickfont": {
          "color": "black",
          "family": "serif",
          "size": 18
         },
         "tickvals": [
          0,
          0.2,
          0.4,
          0.6000000000000001,
          0.8
         ],
         "title": {
          "font": {
           "color": "black",
           "family": "serif",
           "size": 20
          }
         }
        },
        "yaxis8": {
         "anchor": "x8",
         "domain": [
          0,
          0.45
         ],
         "gridcolor": "LightGray",
         "gridwidth": 1,
         "matches": "y5",
         "range": [
          0,
          1
         ],
         "showgrid": true,
         "showticklabels": false,
         "tickfont": {
          "color": "black",
          "family": "serif",
          "size": 18
         },
         "tickvals": [
          0,
          0.2,
          0.4,
          0.6000000000000001,
          0.8
         ],
         "title": {
          "font": {
           "color": "black",
           "family": "serif",
           "size": 20
          }
         }
        }
       }
      },
      "text/html": [
       "<div>                            <div id=\"3b3af581-fe5f-496f-a1e6-59df6c786a5b\" class=\"plotly-graph-div\" style=\"height:560px; width:1000px;\"></div>            <script type=\"text/javascript\">                require([\"plotly\"], function(Plotly) {                    window.PLOTLYENV=window.PLOTLYENV || {};                                    if (document.getElementById(\"3b3af581-fe5f-496f-a1e6-59df6c786a5b\")) {                    Plotly.newPlot(                        \"3b3af581-fe5f-496f-a1e6-59df6c786a5b\",                        [{\"marker\":{\"color\":\"#AF0038\"},\"name\":\"Cluster 0 (ON)\",\"x\":[\"airplane\",\"automobile\",\"bird\",\"cat\",\"deer\",\"dog\",\"frog\",\"horse\",\"ship\",\"truck\"],\"y\":[0.001,0.0,0.272,0.83,0.0,0.0,0.569,0.786,0.701,0.0],\"type\":\"bar\",\"xaxis\":\"x\",\"yaxis\":\"y\"},{\"marker\":{\"color\":\"#AF0038\"},\"name\":\"Cluster 0 (OFF)\",\"x\":[\"airplane\",\"automobile\",\"bird\",\"cat\",\"deer\",\"dog\",\"frog\",\"horse\",\"ship\",\"truck\"],\"y\":[0.736,0.869,0.167,0.006,0.818,0.53,0.691,0.018,0.443,0.735],\"type\":\"bar\",\"xaxis\":\"x5\",\"yaxis\":\"y5\"},{\"marker\":{\"color\":\"#0D2A63\"},\"name\":\"Cluster 1 (ON)\",\"x\":[\"airplane\",\"automobile\",\"bird\",\"cat\",\"deer\",\"dog\",\"frog\",\"horse\",\"ship\",\"truck\"],\"y\":[0.001,0.923,0.0,0.0,0.0,0.014,0.0,0.0,0.827,0.134],\"type\":\"bar\",\"xaxis\":\"x2\",\"yaxis\":\"y2\"},{\"marker\":{\"color\":\"#0D2A63\"},\"name\":\"Cluster 1 (OFF)\",\"x\":[\"airplane\",\"automobile\",\"bird\",\"cat\",\"deer\",\"dog\",\"frog\",\"horse\",\"ship\",\"truck\"],\"y\":[0.726,0.006,0.475,0.636,0.615,0.324,0.73,0.76,0.146,0.24],\"type\":\"bar\",\"xaxis\":\"x6\",\"yaxis\":\"y6\"},{\"marker\":{\"color\":\"#EB663B\"},\"name\":\"Cluster 2 (ON)\",\"x\":[\"airplane\",\"automobile\",\"bird\",\"cat\",\"deer\",\"dog\",\"frog\",\"horse\",\"ship\",\"truck\"],\"y\":[0.211,0.028,0.573,0.031,0.418,0.0,0.477,0.048,0.021,0.563],\"type\":\"bar\",\"xaxis\":\"x3\",\"yaxis\":\"y3\"},{\"marker\":{\"color\":\"#EB663B\"},\"name\":\"Cluster 2 (OFF)\",\"x\":[\"airplane\",\"automobile\",\"bird\",\"cat\",\"deer\",\"dog\",\"frog\",\"horse\",\"ship\",\"truck\"],\"y\":[0.63,0.824,0.236,0.48,0.022,0.625,0.83,0.699,0.8,0.573],\"type\":\"bar\",\"xaxis\":\"x7\",\"yaxis\":\"y7\"},{\"marker\":{\"color\":\"#620042\"},\"name\":\"Cluster 3 (ON)\",\"x\":[\"airplane\",\"automobile\",\"bird\",\"cat\",\"deer\",\"dog\",\"frog\",\"horse\",\"ship\",\"truck\"],\"y\":[0.85,0.0,0.011,0.0,0.019,0.656,0.805,0.106,0.0,0.0],\"type\":\"bar\",\"xaxis\":\"x4\",\"yaxis\":\"y4\"},{\"marker\":{\"color\":\"#620042\"},\"name\":\"Cluster 3 (OFF)\",\"x\":[\"airplane\",\"automobile\",\"bird\",\"cat\",\"deer\",\"dog\",\"frog\",\"horse\",\"ship\",\"truck\"],\"y\":[0.316,0.798,0.589,0.584,0.263,0.167,0.539,0.661,0.903,0.454],\"type\":\"bar\",\"xaxis\":\"x8\",\"yaxis\":\"y8\"}],                        {\"template\":{\"data\":{\"histogram2dcontour\":[{\"type\":\"histogram2dcontour\",\"colorbar\":{\"outlinewidth\":0,\"ticks\":\"\"},\"colorscale\":[[0.0,\"#0d0887\"],[0.1111111111111111,\"#46039f\"],[0.2222222222222222,\"#7201a8\"],[0.3333333333333333,\"#9c179e\"],[0.4444444444444444,\"#bd3786\"],[0.5555555555555556,\"#d8576b\"],[0.6666666666666666,\"#ed7953\"],[0.7777777777777778,\"#fb9f3a\"],[0.8888888888888888,\"#fdca26\"],[1.0,\"#f0f921\"]]}],\"choropleth\":[{\"type\":\"choropleth\",\"colorbar\":{\"outlinewidth\":0,\"ticks\":\"\"}}],\"histogram2d\":[{\"type\":\"histogram2d\",\"colorbar\":{\"outlinewidth\":0,\"ticks\":\"\"},\"colorscale\":[[0.0,\"#0d0887\"],[0.1111111111111111,\"#46039f\"],[0.2222222222222222,\"#7201a8\"],[0.3333333333333333,\"#9c179e\"],[0.4444444444444444,\"#bd3786\"],[0.5555555555555556,\"#d8576b\"],[0.6666666666666666,\"#ed7953\"],[0.7777777777777778,\"#fb9f3a\"],[0.8888888888888888,\"#fdca26\"],[1.0,\"#f0f921\"]]}],\"heatmap\":[{\"type\":\"heatmap\",\"colorbar\":{\"outlinewidth\":0,\"ticks\":\"\"},\"colorscale\":[[0.0,\"#0d0887\"],[0.1111111111111111,\"#46039f\"],[0.2222222222222222,\"#7201a8\"],[0.3333333333333333,\"#9c179e\"],[0.4444444444444444,\"#bd3786\"],[0.5555555555555556,\"#d8576b\"],[0.6666666666666666,\"#ed7953\"],[0.7777777777777778,\"#fb9f3a\"],[0.8888888888888888,\"#fdca26\"],[1.0,\"#f0f921\"]]}],\"heatmapgl\":[{\"type\":\"heatmapgl\",\"colorbar\":{\"outlinewidth\":0,\"ticks\":\"\"},\"colorscale\":[[0.0,\"#0d0887\"],[0.1111111111111111,\"#46039f\"],[0.2222222222222222,\"#7201a8\"],[0.3333333333333333,\"#9c179e\"],[0.4444444444444444,\"#bd3786\"],[0.5555555555555556,\"#d8576b\"],[0.6666666666666666,\"#ed7953\"],[0.7777777777777778,\"#fb9f3a\"],[0.8888888888888888,\"#fdca26\"],[1.0,\"#f0f921\"]]}],\"contourcarpet\":[{\"type\":\"contourcarpet\",\"colorbar\":{\"outlinewidth\":0,\"ticks\":\"\"}}],\"contour\":[{\"type\":\"contour\",\"colorbar\":{\"outlinewidth\":0,\"ticks\":\"\"},\"colorscale\":[[0.0,\"#0d0887\"],[0.1111111111111111,\"#46039f\"],[0.2222222222222222,\"#7201a8\"],[0.3333333333333333,\"#9c179e\"],[0.4444444444444444,\"#bd3786\"],[0.5555555555555556,\"#d8576b\"],[0.6666666666666666,\"#ed7953\"],[0.7777777777777778,\"#fb9f3a\"],[0.8888888888888888,\"#fdca26\"],[1.0,\"#f0f921\"]]}],\"surface\":[{\"type\":\"surface\",\"colorbar\":{\"outlinewidth\":0,\"ticks\":\"\"},\"colorscale\":[[0.0,\"#0d0887\"],[0.1111111111111111,\"#46039f\"],[0.2222222222222222,\"#7201a8\"],[0.3333333333333333,\"#9c179e\"],[0.4444444444444444,\"#bd3786\"],[0.5555555555555556,\"#d8576b\"],[0.6666666666666666,\"#ed7953\"],[0.7777777777777778,\"#fb9f3a\"],[0.8888888888888888,\"#fdca26\"],[1.0,\"#f0f921\"]]}],\"mesh3d\":[{\"type\":\"mesh3d\",\"colorbar\":{\"outlinewidth\":0,\"ticks\":\"\"}}],\"scatter\":[{\"fillpattern\":{\"fillmode\":\"overlay\",\"size\":10,\"solidity\":0.2},\"type\":\"scatter\"}],\"parcoords\":[{\"type\":\"parcoords\",\"line\":{\"colorbar\":{\"outlinewidth\":0,\"ticks\":\"\"}}}],\"scatterpolargl\":[{\"type\":\"scatterpolargl\",\"marker\":{\"colorbar\":{\"outlinewidth\":0,\"ticks\":\"\"}}}],\"bar\":[{\"error_x\":{\"color\":\"#2a3f5f\"},\"error_y\":{\"color\":\"#2a3f5f\"},\"marker\":{\"line\":{\"color\":\"#E5ECF6\",\"width\":0.5},\"pattern\":{\"fillmode\":\"overlay\",\"size\":10,\"solidity\":0.2}},\"type\":\"bar\"}],\"scattergeo\":[{\"type\":\"scattergeo\",\"marker\":{\"colorbar\":{\"outlinewidth\":0,\"ticks\":\"\"}}}],\"scatterpolar\":[{\"type\":\"scatterpolar\",\"marker\":{\"colorbar\":{\"outlinewidth\":0,\"ticks\":\"\"}}}],\"histogram\":[{\"marker\":{\"pattern\":{\"fillmode\":\"overlay\",\"size\":10,\"solidity\":0.2}},\"type\":\"histogram\"}],\"scattergl\":[{\"type\":\"scattergl\",\"marker\":{\"colorbar\":{\"outlinewidth\":0,\"ticks\":\"\"}}}],\"scatter3d\":[{\"type\":\"scatter3d\",\"line\":{\"colorbar\":{\"outlinewidth\":0,\"ticks\":\"\"}},\"marker\":{\"colorbar\":{\"outlinewidth\":0,\"ticks\":\"\"}}}],\"scattermapbox\":[{\"type\":\"scattermapbox\",\"marker\":{\"colorbar\":{\"outlinewidth\":0,\"ticks\":\"\"}}}],\"scatterternary\":[{\"type\":\"scatterternary\",\"marker\":{\"colorbar\":{\"outlinewidth\":0,\"ticks\":\"\"}}}],\"scattercarpet\":[{\"type\":\"scattercarpet\",\"marker\":{\"colorbar\":{\"outlinewidth\":0,\"ticks\":\"\"}}}],\"carpet\":[{\"aaxis\":{\"endlinecolor\":\"#2a3f5f\",\"gridcolor\":\"white\",\"linecolor\":\"white\",\"minorgridcolor\":\"white\",\"startlinecolor\":\"#2a3f5f\"},\"baxis\":{\"endlinecolor\":\"#2a3f5f\",\"gridcolor\":\"white\",\"linecolor\":\"white\",\"minorgridcolor\":\"white\",\"startlinecolor\":\"#2a3f5f\"},\"type\":\"carpet\"}],\"table\":[{\"cells\":{\"fill\":{\"color\":\"#EBF0F8\"},\"line\":{\"color\":\"white\"}},\"header\":{\"fill\":{\"color\":\"#C8D4E3\"},\"line\":{\"color\":\"white\"}},\"type\":\"table\"}],\"barpolar\":[{\"marker\":{\"line\":{\"color\":\"#E5ECF6\",\"width\":0.5},\"pattern\":{\"fillmode\":\"overlay\",\"size\":10,\"solidity\":0.2}},\"type\":\"barpolar\"}],\"pie\":[{\"automargin\":true,\"type\":\"pie\"}]},\"layout\":{\"autotypenumbers\":\"strict\",\"colorway\":[\"#636efa\",\"#EF553B\",\"#00cc96\",\"#ab63fa\",\"#FFA15A\",\"#19d3f3\",\"#FF6692\",\"#B6E880\",\"#FF97FF\",\"#FECB52\"],\"font\":{\"color\":\"#2a3f5f\"},\"hovermode\":\"closest\",\"hoverlabel\":{\"align\":\"left\"},\"paper_bgcolor\":\"white\",\"plot_bgcolor\":\"#E5ECF6\",\"polar\":{\"bgcolor\":\"#E5ECF6\",\"angularaxis\":{\"gridcolor\":\"white\",\"linecolor\":\"white\",\"ticks\":\"\"},\"radialaxis\":{\"gridcolor\":\"white\",\"linecolor\":\"white\",\"ticks\":\"\"}},\"ternary\":{\"bgcolor\":\"#E5ECF6\",\"aaxis\":{\"gridcolor\":\"white\",\"linecolor\":\"white\",\"ticks\":\"\"},\"baxis\":{\"gridcolor\":\"white\",\"linecolor\":\"white\",\"ticks\":\"\"},\"caxis\":{\"gridcolor\":\"white\",\"linecolor\":\"white\",\"ticks\":\"\"}},\"coloraxis\":{\"colorbar\":{\"outlinewidth\":0,\"ticks\":\"\"}},\"colorscale\":{\"sequential\":[[0.0,\"#0d0887\"],[0.1111111111111111,\"#46039f\"],[0.2222222222222222,\"#7201a8\"],[0.3333333333333333,\"#9c179e\"],[0.4444444444444444,\"#bd3786\"],[0.5555555555555556,\"#d8576b\"],[0.6666666666666666,\"#ed7953\"],[0.7777777777777778,\"#fb9f3a\"],[0.8888888888888888,\"#fdca26\"],[1.0,\"#f0f921\"]],\"sequentialminus\":[[0.0,\"#0d0887\"],[0.1111111111111111,\"#46039f\"],[0.2222222222222222,\"#7201a8\"],[0.3333333333333333,\"#9c179e\"],[0.4444444444444444,\"#bd3786\"],[0.5555555555555556,\"#d8576b\"],[0.6666666666666666,\"#ed7953\"],[0.7777777777777778,\"#fb9f3a\"],[0.8888888888888888,\"#fdca26\"],[1.0,\"#f0f921\"]],\"diverging\":[[0,\"#8e0152\"],[0.1,\"#c51b7d\"],[0.2,\"#de77ae\"],[0.3,\"#f1b6da\"],[0.4,\"#fde0ef\"],[0.5,\"#f7f7f7\"],[0.6,\"#e6f5d0\"],[0.7,\"#b8e186\"],[0.8,\"#7fbc41\"],[0.9,\"#4d9221\"],[1,\"#276419\"]]},\"xaxis\":{\"gridcolor\":\"white\",\"linecolor\":\"white\",\"ticks\":\"\",\"title\":{\"standoff\":15},\"zerolinecolor\":\"white\",\"automargin\":true,\"zerolinewidth\":2},\"yaxis\":{\"gridcolor\":\"white\",\"linecolor\":\"white\",\"ticks\":\"\",\"title\":{\"standoff\":15},\"zerolinecolor\":\"white\",\"automargin\":true,\"zerolinewidth\":2},\"scene\":{\"xaxis\":{\"backgroundcolor\":\"#E5ECF6\",\"gridcolor\":\"white\",\"linecolor\":\"white\",\"showbackground\":true,\"ticks\":\"\",\"zerolinecolor\":\"white\",\"gridwidth\":2},\"yaxis\":{\"backgroundcolor\":\"#E5ECF6\",\"gridcolor\":\"white\",\"linecolor\":\"white\",\"showbackground\":true,\"ticks\":\"\",\"zerolinecolor\":\"white\",\"gridwidth\":2},\"zaxis\":{\"backgroundcolor\":\"#E5ECF6\",\"gridcolor\":\"white\",\"linecolor\":\"white\",\"showbackground\":true,\"ticks\":\"\",\"zerolinecolor\":\"white\",\"gridwidth\":2}},\"shapedefaults\":{\"line\":{\"color\":\"#2a3f5f\"}},\"annotationdefaults\":{\"arrowcolor\":\"#2a3f5f\",\"arrowhead\":0,\"arrowwidth\":1},\"geo\":{\"bgcolor\":\"white\",\"landcolor\":\"#E5ECF6\",\"subunitcolor\":\"white\",\"showland\":true,\"showlakes\":true,\"lakecolor\":\"white\"},\"title\":{\"x\":0.05},\"mapbox\":{\"style\":\"light\"}}},\"xaxis\":{\"anchor\":\"y\",\"domain\":[0.0,0.2125],\"matches\":\"x5\",\"showticklabels\":false,\"tickangle\":-90,\"tickvals\":[0,1,2,3,4,5,6,7,8,9],\"title\":{\"font\":{\"family\":\"serif\",\"size\":20,\"color\":\"black\"}},\"tickfont\":{\"family\":\"serif\",\"size\":18,\"color\":\"black\"},\"showline\":true,\"linewidth\":1,\"linecolor\":\"black\",\"mirror\":false},\"yaxis\":{\"anchor\":\"x\",\"domain\":[0.55,1.0],\"showgrid\":true,\"gridwidth\":1,\"gridcolor\":\"LightGray\",\"range\":[0,1],\"tickvals\":[0.0,0.2,0.4,0.6000000000000001,0.8],\"title\":{\"font\":{\"family\":\"serif\",\"size\":20,\"color\":\"black\"}},\"tickfont\":{\"family\":\"serif\",\"size\":18,\"color\":\"black\"}},\"xaxis2\":{\"anchor\":\"y2\",\"domain\":[0.2625,0.475],\"matches\":\"x6\",\"showticklabels\":false,\"tickangle\":-90,\"tickvals\":[0,1,2,3,4,5,6,7,8,9],\"title\":{\"font\":{\"family\":\"serif\",\"size\":20,\"color\":\"black\"}},\"tickfont\":{\"family\":\"serif\",\"size\":18,\"color\":\"black\"},\"showline\":true,\"linewidth\":1,\"linecolor\":\"black\",\"mirror\":false},\"yaxis2\":{\"anchor\":\"x2\",\"domain\":[0.55,1.0],\"matches\":\"y\",\"showticklabels\":false,\"showgrid\":true,\"gridwidth\":1,\"gridcolor\":\"LightGray\",\"range\":[0,1],\"tickvals\":[0.0,0.2,0.4,0.6000000000000001,0.8],\"title\":{\"font\":{\"family\":\"serif\",\"size\":20,\"color\":\"black\"}},\"tickfont\":{\"family\":\"serif\",\"size\":18,\"color\":\"black\"}},\"xaxis3\":{\"anchor\":\"y3\",\"domain\":[0.525,0.7375],\"matches\":\"x7\",\"showticklabels\":false,\"tickangle\":-90,\"tickvals\":[0,1,2,3,4,5,6,7,8,9],\"title\":{\"font\":{\"family\":\"serif\",\"size\":20,\"color\":\"black\"}},\"tickfont\":{\"family\":\"serif\",\"size\":18,\"color\":\"black\"},\"showline\":true,\"linewidth\":1,\"linecolor\":\"black\",\"mirror\":false},\"yaxis3\":{\"anchor\":\"x3\",\"domain\":[0.55,1.0],\"matches\":\"y\",\"showticklabels\":false,\"showgrid\":true,\"gridwidth\":1,\"gridcolor\":\"LightGray\",\"range\":[0,1],\"tickvals\":[0.0,0.2,0.4,0.6000000000000001,0.8],\"title\":{\"font\":{\"family\":\"serif\",\"size\":20,\"color\":\"black\"}},\"tickfont\":{\"family\":\"serif\",\"size\":18,\"color\":\"black\"}},\"xaxis4\":{\"anchor\":\"y4\",\"domain\":[0.7875,1.0],\"matches\":\"x8\",\"showticklabels\":false,\"tickangle\":-90,\"tickvals\":[0,1,2,3,4,5,6,7,8,9],\"title\":{\"font\":{\"family\":\"serif\",\"size\":20,\"color\":\"black\"}},\"tickfont\":{\"family\":\"serif\",\"size\":18,\"color\":\"black\"},\"showline\":true,\"linewidth\":1,\"linecolor\":\"black\",\"mirror\":false},\"yaxis4\":{\"anchor\":\"x4\",\"domain\":[0.55,1.0],\"matches\":\"y\",\"showticklabels\":false,\"showgrid\":true,\"gridwidth\":1,\"gridcolor\":\"LightGray\",\"range\":[0,1],\"tickvals\":[0.0,0.2,0.4,0.6000000000000001,0.8],\"title\":{\"font\":{\"family\":\"serif\",\"size\":20,\"color\":\"black\"}},\"tickfont\":{\"family\":\"serif\",\"size\":18,\"color\":\"black\"}},\"xaxis5\":{\"anchor\":\"y5\",\"domain\":[0.0,0.2125],\"tickangle\":-90,\"tickvals\":[0,1,2,3,4,5,6,7,8,9],\"title\":{\"font\":{\"family\":\"serif\",\"size\":20,\"color\":\"black\"}},\"tickfont\":{\"family\":\"serif\",\"size\":18,\"color\":\"black\"},\"showline\":true,\"linewidth\":1,\"linecolor\":\"black\",\"mirror\":false},\"yaxis5\":{\"anchor\":\"x5\",\"domain\":[0.0,0.45],\"showgrid\":true,\"gridwidth\":1,\"gridcolor\":\"LightGray\",\"range\":[0,1],\"tickvals\":[0.0,0.2,0.4,0.6000000000000001,0.8],\"title\":{\"font\":{\"family\":\"serif\",\"size\":20,\"color\":\"black\"}},\"tickfont\":{\"family\":\"serif\",\"size\":18,\"color\":\"black\"}},\"xaxis6\":{\"anchor\":\"y6\",\"domain\":[0.2625,0.475],\"tickangle\":-90,\"tickvals\":[0,1,2,3,4,5,6,7,8,9],\"title\":{\"font\":{\"family\":\"serif\",\"size\":20,\"color\":\"black\"}},\"tickfont\":{\"family\":\"serif\",\"size\":18,\"color\":\"black\"},\"showline\":true,\"linewidth\":1,\"linecolor\":\"black\",\"mirror\":false},\"yaxis6\":{\"anchor\":\"x6\",\"domain\":[0.0,0.45],\"matches\":\"y5\",\"showticklabels\":false,\"showgrid\":true,\"gridwidth\":1,\"gridcolor\":\"LightGray\",\"range\":[0,1],\"tickvals\":[0.0,0.2,0.4,0.6000000000000001,0.8],\"title\":{\"font\":{\"family\":\"serif\",\"size\":20,\"color\":\"black\"}},\"tickfont\":{\"family\":\"serif\",\"size\":18,\"color\":\"black\"}},\"xaxis7\":{\"anchor\":\"y7\",\"domain\":[0.525,0.7375],\"tickangle\":-90,\"tickvals\":[0,1,2,3,4,5,6,7,8,9],\"title\":{\"font\":{\"family\":\"serif\",\"size\":20,\"color\":\"black\"}},\"tickfont\":{\"family\":\"serif\",\"size\":18,\"color\":\"black\"},\"showline\":true,\"linewidth\":1,\"linecolor\":\"black\",\"mirror\":false},\"yaxis7\":{\"anchor\":\"x7\",\"domain\":[0.0,0.45],\"matches\":\"y5\",\"showticklabels\":false,\"showgrid\":true,\"gridwidth\":1,\"gridcolor\":\"LightGray\",\"range\":[0,1],\"tickvals\":[0.0,0.2,0.4,0.6000000000000001,0.8],\"title\":{\"font\":{\"family\":\"serif\",\"size\":20,\"color\":\"black\"}},\"tickfont\":{\"family\":\"serif\",\"size\":18,\"color\":\"black\"}},\"xaxis8\":{\"anchor\":\"y8\",\"domain\":[0.7875,1.0],\"tickangle\":-90,\"tickvals\":[0,1,2,3,4,5,6,7,8,9],\"title\":{\"font\":{\"family\":\"serif\",\"size\":20,\"color\":\"black\"}},\"tickfont\":{\"family\":\"serif\",\"size\":18,\"color\":\"black\"},\"showline\":true,\"linewidth\":1,\"linecolor\":\"black\",\"mirror\":false},\"yaxis8\":{\"anchor\":\"x8\",\"domain\":[0.0,0.45],\"matches\":\"y5\",\"showticklabels\":false,\"showgrid\":true,\"gridwidth\":1,\"gridcolor\":\"LightGray\",\"range\":[0,1],\"tickvals\":[0.0,0.2,0.4,0.6000000000000001,0.8],\"title\":{\"font\":{\"family\":\"serif\",\"size\":20,\"color\":\"black\"}},\"tickfont\":{\"family\":\"serif\",\"size\":18,\"color\":\"black\"}},\"annotations\":[{\"font\":{\"size\":16},\"showarrow\":false,\"text\":\"Cluster 0 (ON)\",\"x\":0.10625,\"xanchor\":\"center\",\"xref\":\"paper\",\"y\":1.0,\"yanchor\":\"bottom\",\"yref\":\"paper\"},{\"font\":{\"size\":16},\"showarrow\":false,\"text\":\"Cluster 1 (ON)\",\"x\":0.36875,\"xanchor\":\"center\",\"xref\":\"paper\",\"y\":1.0,\"yanchor\":\"bottom\",\"yref\":\"paper\"},{\"font\":{\"size\":16},\"showarrow\":false,\"text\":\"Cluster 2 (ON)\",\"x\":0.6312500000000001,\"xanchor\":\"center\",\"xref\":\"paper\",\"y\":1.0,\"yanchor\":\"bottom\",\"yref\":\"paper\"},{\"font\":{\"size\":16},\"showarrow\":false,\"text\":\"Cluster 3 (ON)\",\"x\":0.89375,\"xanchor\":\"center\",\"xref\":\"paper\",\"y\":1.0,\"yanchor\":\"bottom\",\"yref\":\"paper\"},{\"font\":{\"size\":16},\"showarrow\":false,\"text\":\"Cluster 0 (OFF)\",\"x\":0.10625,\"xanchor\":\"center\",\"xref\":\"paper\",\"y\":0.45,\"yanchor\":\"bottom\",\"yref\":\"paper\"},{\"font\":{\"size\":16},\"showarrow\":false,\"text\":\"Cluster 1 (OFF)\",\"x\":0.36875,\"xanchor\":\"center\",\"xref\":\"paper\",\"y\":0.45,\"yanchor\":\"bottom\",\"yref\":\"paper\"},{\"font\":{\"size\":16},\"showarrow\":false,\"text\":\"Cluster 2 (OFF)\",\"x\":0.6312500000000001,\"xanchor\":\"center\",\"xref\":\"paper\",\"y\":0.45,\"yanchor\":\"bottom\",\"yref\":\"paper\"},{\"font\":{\"size\":16},\"showarrow\":false,\"text\":\"Cluster 3 (OFF)\",\"x\":0.89375,\"xanchor\":\"center\",\"xref\":\"paper\",\"y\":0.45,\"yanchor\":\"bottom\",\"yref\":\"paper\"},{\"align\":\"center\",\"font\":{\"family\":\"Computer Modern\",\"size\":22},\"showarrow\":false,\"text\":\"Accuracy\",\"textangle\":-90,\"x\":-0.1,\"xref\":\"paper\",\"y\":0.5,\"yref\":\"paper\"},{\"align\":\"center\",\"font\":{\"family\":\"Computer Modern\",\"size\":22},\"showarrow\":false,\"text\":\"Class\",\"x\":0.5,\"xref\":\"paper\",\"y\":-0.35,\"yref\":\"paper\"}],\"plot_bgcolor\":\"white\",\"height\":560,\"width\":1000,\"showlegend\":false,\"font\":{\"family\":\"serif\",\"size\":20,\"color\":\"black\"},\"margin\":{\"t\":50,\"b\":140}},                        {\"responsive\": true}                    ).then(function(){\n",
       "                            \n",
       "var gd = document.getElementById('3b3af581-fe5f-496f-a1e6-59df6c786a5b');\n",
       "var x = new MutationObserver(function (mutations, observer) {{\n",
       "        var display = window.getComputedStyle(gd).display;\n",
       "        if (!display || display === 'none') {{\n",
       "            console.log([gd, 'removed!']);\n",
       "            Plotly.purge(gd);\n",
       "            observer.disconnect();\n",
       "        }}\n",
       "}});\n",
       "\n",
       "// Listen for the removal of the full notebook cells\n",
       "var notebookContainer = gd.closest('#notebook-container');\n",
       "if (notebookContainer) {{\n",
       "    x.observe(notebookContainer, {childList: true});\n",
       "}}\n",
       "\n",
       "// Listen for the clearing of the current output cell\n",
       "var outputEl = gd.closest('.output');\n",
       "if (outputEl) {{\n",
       "    x.observe(outputEl, {childList: true});\n",
       "}}\n",
       "\n",
       "                        })                };                });            </script>        </div>"
      ]
     },
     "metadata": {},
     "output_type": "display_data"
    }
   ],
   "source": [
    "def plot_classwise_cluster_perf(num_clusters, classwise_accuracies_on, classwise_accuracies_off, cifar_labels=cifar_labels):\n",
    "    colors = [pc.qualitative.Dark24_r[0], pc.qualitative.Dark24_r[1], pc.qualitative.Dark24_r[15], pc.qualitative.Dark24_r[5]]\n",
    "    fig = make_subplots(rows=2, cols=4, shared_xaxes=True, shared_yaxes=True, vertical_spacing=0.1, subplot_titles=[f'Cluster {i} (ON)' for i in range(num_clusters)] + [f'Cluster {i} (OFF)' for i in range(num_clusters)], row_heights=[0.15, 0.15])\n",
    "    \n",
    "    for i in range(num_clusters):\n",
    "        fig.add_trace(go.Bar(x=cifar_labels, y=classwise_accuracies_on[i], marker_color=colors[i], name=f'Cluster {i} (ON)'), row=1, col=i+1)\n",
    "        fig.update_xaxes(tickangle=-90)\n",
    "        fig.add_trace(go.Bar(x=cifar_labels, y=classwise_accuracies_off[i], marker_color=colors[i], name=f'Cluster {i} (OFF)'), row=2, col=i+1)\n",
    "    \n",
    "    fig.update_layout(plot_bgcolor='white')\n",
    "    fig.update_yaxes(showgrid=True, gridwidth=1, gridcolor='LightGray')\n",
    "    fig.update_layout(height=140 * num_clusters, width=1000)\n",
    "    fig.update_layout(showlegend=True)\n",
    "    fig.add_annotation(text=\"Accuracy\", xref=\"paper\", yref=\"paper\", x=-0.1, y=0.5, showarrow=False, font=dict(size=22, family=\"Computer Modern\"), align=\"center\", textangle=-90)\n",
    "    fig.add_annotation(text=\"Class\", xref=\"paper\", yref=\"paper\", x=0.5, y=-0.35, showarrow=False, font=dict(size=22, family=\"Computer Modern\"), align=\"center\")\n",
    "    fig.update_layout(font_family=\"Computer Modern\", font_size=20)\n",
    "    fig.update_yaxes(range=[0, 1], tickvals=np.arange(0, 1, 0.2))\n",
    "    fig.update_layout(showlegend=False)\n",
    "    fig.update_xaxes(tickvals=np.arange(10))\n",
    "    fig.update_layout(margin=dict(t=50, b=140))\n",
    "    fig.update_layout(font=dict(family='serif', size=20, color='black'))\n",
    "    fig.update_xaxes(title_font=dict(family='serif', size=20, color='black'))\n",
    "    fig.update_yaxes(title_font=dict(family='serif', size=20, color='black'))\n",
    "    fig.update_xaxes(tickfont=dict(family='serif', size=18, color='black'))\n",
    "    fig.update_yaxes(tickfont=dict(family='serif', size=18, color='black'))\n",
    "    fig.update_xaxes(showline=True, linewidth=1, linecolor='black', mirror=False)\n",
    "    return fig\n",
    "\n",
    "fig = plot_classwise_cluster_perf(num_clusters, classwise_accuracies_on, classwise_accuracies_off)\n",
    "\n",
    "fig.show()"
   ]
  },
  {
   "cell_type": "code",
   "execution_count": 62,
   "metadata": {},
   "outputs": [],
   "source": [
    "# save as pdf\n",
    "\n",
    "fig.write_image(str(figures_path / 'classwise_cluster_all_accuracies.pdf'), scale=5)"
   ]
  },
  {
   "cell_type": "code",
   "execution_count": 63,
   "metadata": {},
   "outputs": [
    {
     "data": {
      "text/plain": [
       "'results/CIFAR10/'"
      ]
     },
     "execution_count": 63,
     "metadata": {},
     "output_type": "execute_result"
    }
   ],
   "source": [
    "path"
   ]
  },
  {
   "cell_type": "markdown",
   "metadata": {},
   "source": [
    "## 5. Comparison with Unclustered Model"
   ]
  },
  {
   "cell_type": "markdown",
   "metadata": {},
   "source": [
    "### (b) Circuit discovery search-space reduction"
   ]
  },
  {
   "cell_type": "code",
   "execution_count": 64,
   "metadata": {},
   "outputs": [
    {
     "data": {
      "text/plain": [
       "273744"
      ]
     },
     "execution_count": 64,
     "metadata": {},
     "output_type": "execute_result"
    }
   ],
   "source": [
    "total_params = sum(p.numel() for p in model.parameters())\n",
    "total_params"
   ]
  },
  {
   "cell_type": "code",
   "execution_count": 65,
   "metadata": {},
   "outputs": [
    {
     "data": {
      "text/plain": [
       "267328"
      ]
     },
     "execution_count": 65,
     "metadata": {},
     "output_type": "execute_result"
    }
   ],
   "source": [
    "(3 * 16 * 3 * 3) + 16 +  4096 * 64 + 64 * 64 + 64 * 10"
   ]
  },
  {
   "cell_type": "code",
   "execution_count": 66,
   "metadata": {},
   "outputs": [
    {
     "name": "stdout",
     "output_type": "stream",
     "text": [
      "Percentage pruned: 75.74%\n"
     ]
    }
   ],
   "source": [
    "trimmed_params = (3 * 16 * 3 * 3) + 16 +  4096 * 16 + 16 * 16 + 16 * 10\n",
    "\n",
    "print(f'Percentage pruned: {(total_params - trimmed_params) / total_params * 100:.2f}%')"
   ]
  },
  {
   "cell_type": "markdown",
   "metadata": {},
   "source": [
    "# The below stuff (pruning) takes a long time"
   ]
  },
  {
   "cell_type": "markdown",
   "metadata": {},
   "source": [
    "### (c) Circuit Complexity Reduction (CCR)\n",
    "\n",
    "The reduction in the expected circuit size for a given behavior. Since we restrict circuit-forming to use fixed clusters, we can likely expect simpler circuits? For this we need to implement a circuit discovery method. For now, we'll just use accuracy-based pruning. We can shift to others (ACDC/EAP) later on."
   ]
  },
  {
   "cell_type": "code",
   "execution_count": 67,
   "metadata": {},
   "outputs": [],
   "source": [
    "def fast_label_perf(model, x, label):\n",
    "    with torch.no_grad():\n",
    "        output = model(x)\n",
    "        criterion = nn.CrossEntropyLoss()\n",
    "        target = torch.tensor([label] * x.size(0)).to(device)\n",
    "        loss = criterion(output, target)\n",
    "        accuracy = (output.argmax(dim=1) == target).sum().item() / x.size(0)\n",
    "    return loss, accuracy"
   ]
  },
  {
   "cell_type": "code",
   "execution_count": 73,
   "metadata": {},
   "outputs": [],
   "source": [
    "import copy\n",
    "\n",
    "def prune_model(model, x, label, device, verbose=False):\n",
    "    pruned_model = copy.deepcopy(model)\n",
    "    \n",
    "    layers = list(pruned_model.children())\n",
    "    for layer in reversed(layers):\n",
    "        if verbose:\n",
    "            print(f'Pruning layer: {layer}')\n",
    "        if isinstance(layer, nn.Linear):\n",
    "            for neuron_idx in tqdm.trange(layer.weight.shape[0]):\n",
    "                for weight_idx in range(layer.weight.shape[1]):\n",
    "                    # Create a mask to zero out the weight\n",
    "                    mask = torch.ones_like(layer.weight)\n",
    "                    mask[neuron_idx, weight_idx] = 0\n",
    "                    \n",
    "                    # Apply the mask\n",
    "                    original_weight = layer.weight[neuron_idx, weight_idx].item()\n",
    "                    layer.weight.data[neuron_idx, weight_idx] = 0\n",
    "                    \n",
    "                    # Check performance\n",
    "                    loss_pruned, acc_pruned = fast_label_perf(pruned_model, x, label)\n",
    "                    loss_original, acc_original = fast_label_perf(model, x, label)\n",
    "                    \n",
    "                    # If performance decreases, restore the weight\n",
    "                    if (loss_pruned - loss_original) > 0:\n",
    "                        layer.weight.data[neuron_idx, weight_idx] = original_weight\n",
    "\n",
    "        # fraction pruned\n",
    "        num_zeros = torch.sum(layer.weight == 0).item()\n",
    "        total_params = layer.weight.numel()\n",
    "        if verbose:\n",
    "            print(f'Fraction pruned: {num_zeros / total_params:.4f}')\n",
    "                    \n",
    "    return pruned_model"
   ]
  },
  {
   "cell_type": "code",
   "execution_count": 74,
   "metadata": {},
   "outputs": [
    {
     "data": {
      "text/plain": [
       "torch.Size([1000, 3, 32, 32])"
      ]
     },
     "execution_count": 74,
     "metadata": {},
     "output_type": "execute_result"
    }
   ],
   "source": [
    "label = 8\n",
    "\n",
    "label_data = torch.stack([test_dataset[i][0] for i in range(len(test_dataset)) if test_dataset[i][1] == label])\n",
    "\n",
    "label_data = label_data.to(device)\n",
    "\n",
    "label_data.shape"
   ]
  },
  {
   "cell_type": "code",
   "execution_count": 75,
   "metadata": {},
   "outputs": [
    {
     "name": "stdout",
     "output_type": "stream",
     "text": [
      "Pruning layer: Linear(in_features=64, out_features=10, bias=False)\n"
     ]
    },
    {
     "name": "stderr",
     "output_type": "stream",
     "text": [
      "100%|██████████| 10/10 [00:01<00:00,  6.91it/s]\n"
     ]
    },
    {
     "name": "stdout",
     "output_type": "stream",
     "text": [
      "Fraction pruned: 0.9891\n",
      "Pruning layer: Linear(in_features=64, out_features=64, bias=False)\n"
     ]
    },
    {
     "name": "stderr",
     "output_type": "stream",
     "text": [
      "100%|██████████| 64/64 [00:09<00:00,  7.06it/s]\n"
     ]
    },
    {
     "name": "stdout",
     "output_type": "stream",
     "text": [
      "Fraction pruned: 0.9929\n",
      "Pruning layer: Linear(in_features=64, out_features=64, bias=False)\n"
     ]
    },
    {
     "name": "stderr",
     "output_type": "stream",
     "text": [
      "100%|██████████| 64/64 [00:09<00:00,  7.03it/s]\n"
     ]
    },
    {
     "name": "stdout",
     "output_type": "stream",
     "text": [
      "Fraction pruned: 0.9963\n",
      "Pruning layer: Linear(in_features=4096, out_features=64, bias=False)\n"
     ]
    },
    {
     "name": "stderr",
     "output_type": "stream",
     "text": [
      "100%|██████████| 64/64 [09:27<00:00,  8.86s/it]"
     ]
    },
    {
     "name": "stdout",
     "output_type": "stream",
     "text": [
      "Fraction pruned: 0.9953\n",
      "Pruning layer: Conv2d(16, 16, kernel_size=(3, 3), stride=(1, 1), padding=(1, 1))\n",
      "Fraction pruned: 0.0000\n",
      "Pruning layer: Conv2d(3, 16, kernel_size=(3, 3), stride=(1, 1), padding=(1, 1))\n",
      "Fraction pruned: 0.0000\n"
     ]
    },
    {
     "name": "stderr",
     "output_type": "stream",
     "text": [
      "\n"
     ]
    }
   ],
   "source": [
    "pruned_model = prune_model(model, label_data, label, device, verbose=True)"
   ]
  },
  {
   "cell_type": "code",
   "execution_count": 77,
   "metadata": {},
   "outputs": [],
   "source": [
    "torch.save(pruned_model.state_dict(), f'{path}pruned_model.pth')"
   ]
  },
  {
   "cell_type": "code",
   "execution_count": 78,
   "metadata": {},
   "outputs": [
    {
     "name": "stdout",
     "output_type": "stream",
     "text": [
      "Pruning layer: Linear(in_features=64, out_features=10, bias=False)\n"
     ]
    },
    {
     "name": "stderr",
     "output_type": "stream",
     "text": [
      "100%|██████████| 10/10 [00:01<00:00,  7.13it/s]\n"
     ]
    },
    {
     "name": "stdout",
     "output_type": "stream",
     "text": [
      "Fraction pruned: 0.9922\n",
      "Pruning layer: Linear(in_features=64, out_features=64, bias=False)\n"
     ]
    },
    {
     "name": "stderr",
     "output_type": "stream",
     "text": [
      "100%|██████████| 64/64 [00:09<00:00,  7.09it/s]\n"
     ]
    },
    {
     "name": "stdout",
     "output_type": "stream",
     "text": [
      "Fraction pruned: 0.9893\n",
      "Pruning layer: Linear(in_features=64, out_features=64, bias=False)\n"
     ]
    },
    {
     "name": "stderr",
     "output_type": "stream",
     "text": [
      "100%|██████████| 64/64 [00:09<00:00,  7.10it/s]\n"
     ]
    },
    {
     "name": "stdout",
     "output_type": "stream",
     "text": [
      "Fraction pruned: 0.9858\n",
      "Pruning layer: Linear(in_features=4096, out_features=64, bias=False)\n"
     ]
    },
    {
     "name": "stderr",
     "output_type": "stream",
     "text": [
      "100%|██████████| 64/64 [09:27<00:00,  8.87s/it]"
     ]
    },
    {
     "name": "stdout",
     "output_type": "stream",
     "text": [
      "Fraction pruned: 0.9911\n",
      "Pruning layer: Conv2d(16, 16, kernel_size=(3, 3), stride=(1, 1), padding=(1, 1))\n",
      "Fraction pruned: 0.0000\n",
      "Pruning layer: Conv2d(3, 16, kernel_size=(3, 3), stride=(1, 1), padding=(1, 1))\n",
      "Fraction pruned: 0.0000\n"
     ]
    },
    {
     "name": "stderr",
     "output_type": "stream",
     "text": [
      "\n"
     ]
    }
   ],
   "source": [
    "# comparing with if we had pruned the unclustered model\n",
    "\n",
    "pruned_model_unclustered = prune_model(unclustered_model, label_data, label, device, verbose=True)"
   ]
  },
  {
   "cell_type": "code",
   "execution_count": 79,
   "metadata": {},
   "outputs": [],
   "source": [
    "torch.save(pruned_model_unclustered.state_dict(), f'{path}pruned_model_unclustered.pth')"
   ]
  },
  {
   "cell_type": "code",
   "execution_count": 80,
   "metadata": {},
   "outputs": [
    {
     "name": "stdout",
     "output_type": "stream",
     "text": [
      "[0.0, 0.0, 0.0, 0.0, 0.0, 0.0, 0.0, 0.0, 1.0, 0.0]\n",
      "[0.0, 0.0, 0.0, 0.0, 0.0, 0.0, 0.0, 0.0, 1.0, 0.0]\n"
     ]
    }
   ],
   "source": [
    "print(classwise_accuracy(pruned_model, test_loader))\n",
    "print(classwise_accuracy(pruned_model_unclustered, test_loader))"
   ]
  },
  {
   "cell_type": "code",
   "execution_count": 81,
   "metadata": {},
   "outputs": [],
   "source": [
    "def effective_circuit_size(model):\n",
    "    # fraction of non-zero weights\n",
    "    total_params = 0\n",
    "    num_zeros = 0\n",
    "    for layer in model.children():\n",
    "        if isinstance(layer, nn.Linear):\n",
    "            total_params += layer.weight.numel()\n",
    "            num_zeros += torch.sum(layer.weight == 0).item()\n",
    "    return round(1 - (num_zeros / total_params), 3)"
   ]
  },
  {
   "cell_type": "code",
   "execution_count": 82,
   "metadata": {},
   "outputs": [
    {
     "data": {
      "text/plain": [
       "(1.0, 0.005, 0.009)"
      ]
     },
     "execution_count": 82,
     "metadata": {},
     "output_type": "execute_result"
    }
   ],
   "source": [
    "effective_circuit_size(model), effective_circuit_size(pruned_model), effective_circuit_size(pruned_model_unclustered)"
   ]
  },
  {
   "cell_type": "code",
   "execution_count": 83,
   "metadata": {},
   "outputs": [
    {
     "data": {
      "text/plain": [
       "'results/CIFAR10/'"
      ]
     },
     "execution_count": 83,
     "metadata": {},
     "output_type": "execute_result"
    }
   ],
   "source": [
    "path"
   ]
  },
  {
   "cell_type": "code",
   "execution_count": 84,
   "metadata": {},
   "outputs": [],
   "source": [
    "# store the unclustered model\n",
    "torch.save(unclustered_model.state_dict(), f'{path}unclustered_model.pth')"
   ]
  },
  {
   "cell_type": "code",
   "execution_count": null,
   "metadata": {},
   "outputs": [
    {
     "ename": "",
     "evalue": "",
     "output_type": "error",
     "traceback": [
      "\u001b[1;31mRunning cells with 'Python 3.10.12' requires the ipykernel package.\n",
      "\u001b[1;31mRun the following command to install 'ipykernel' into the Python environment. \n",
      "\u001b[1;31mCommand: '/bin/python3 -m pip install ipykernel -U --user --force-reinstall'"
     ]
    }
   ],
   "source": [
    "# effective circuit sizes for pruned models v pruned unclustered models for each label\n",
    "# NOTE:\n",
    "# this will take a while to run; better to run this as a script in the background (there's a \"pruning.py\" for this)\n",
    "# and then directly load the results\n",
    "\n",
    "ecs_pruned_all_labels = []\n",
    "ecs_pruned_unclustered_all_labels = []\n",
    "\n",
    "for label in tqdm.trange(10):\n",
    "    label_data = torch.stack([test_dataset[i][0] for i in range(len(test_dataset)) if test_dataset[i][1] == label])\n",
    "    label_data = label_data.to(device)\n",
    "    \n",
    "    pruned_model = prune_model(model, label_data, label, device, verbose=False)\n",
    "    pruned_model_unclustered = prune_model(unclustered_model, label_data, label, device, verbose=False)\n",
    "    \n",
    "    ecs_pruned_all_labels.append(effective_circuit_size(pruned_model))\n",
    "    ecs_pruned_unclustered_all_labels.append(effective_circuit_size(pruned_model_unclustered))\n",
    "\n",
    "    # print the effective circuit sizes for each label\n",
    "    print(f'Label: {label}, ECS (pruned): {ecs_pruned_all_labels[-1]}, ECS (pruned unclustered): {ecs_pruned_unclustered_all_labels[-1]}')\n",
    "\n",
    "torch.save(ecs_pruned_all_labels, path + 'ecs_pruned_all_labels.pth')\n",
    "torch.save(ecs_pruned_unclustered_all_labels, path + 'ecs_pruned_unclustered_all_labels.pth')"
   ]
  },
  {
   "cell_type": "code",
   "execution_count": null,
   "metadata": {},
   "outputs": [
    {
     "ename": "",
     "evalue": "",
     "output_type": "error",
     "traceback": [
      "\u001b[1;31mRunning cells with 'Python 3.10.12' requires the ipykernel package.\n",
      "\u001b[1;31mRun the following command to install 'ipykernel' into the Python environment. \n",
      "\u001b[1;31mCommand: '/bin/python3 -m pip install ipykernel -U --user --force-reinstall'"
     ]
    }
   ],
   "source": [
    "path = 'results/CIFAR10/'\n",
    "\n",
    "# load the effective circuit sizes\n",
    "ecs_pruned_all_labels = torch.load(path + 'ecs_pruned_all_labels.pth')\n",
    "ecs_pruned_unclustered_all_labels = torch.load(path + 'ecs_pruned_unclustered_all_labels.pth')"
   ]
  },
  {
   "cell_type": "code",
   "execution_count": null,
   "metadata": {},
   "outputs": [
    {
     "ename": "",
     "evalue": "",
     "output_type": "error",
     "traceback": [
      "\u001b[1;31mRunning cells with 'Python 3.10.12' requires the ipykernel package.\n",
      "\u001b[1;31mRun the following command to install 'ipykernel' into the Python environment. \n",
      "\u001b[1;31mCommand: '/bin/python3 -m pip install ipykernel -U --user --force-reinstall'"
     ]
    }
   ],
   "source": [
    "ecs_pruned_all_labels, ecs_pruned_unclustered_all_labels"
   ]
  },
  {
   "cell_type": "code",
   "execution_count": null,
   "metadata": {},
   "outputs": [
    {
     "ename": "",
     "evalue": "",
     "output_type": "error",
     "traceback": [
      "\u001b[1;31mRunning cells with 'Python 3.10.12' requires the ipykernel package.\n",
      "\u001b[1;31mRun the following command to install 'ipykernel' into the Python environment. \n",
      "\u001b[1;31mCommand: '/bin/python3 -m pip install ipykernel -U --user --force-reinstall'"
     ]
    }
   ],
   "source": [
    "# cifar label names\n",
    "cifar_labels = ['airplane', 'auto.', 'bird', 'cat', 'deer', 'dog', 'frog', 'horse', 'ship', 'truck']"
   ]
  },
  {
   "cell_type": "code",
   "execution_count": null,
   "metadata": {},
   "outputs": [
    {
     "ename": "",
     "evalue": "",
     "output_type": "error",
     "traceback": [
      "\u001b[1;31mRunning cells with 'Python 3.10.12' requires the ipykernel package.\n",
      "\u001b[1;31mRun the following command to install 'ipykernel' into the Python environment. \n",
      "\u001b[1;31mCommand: '/bin/python3 -m pip install ipykernel -U --user --force-reinstall'"
     ]
    }
   ],
   "source": [
    "fig = go.Figure()\n",
    "\n",
    "# Calculate percentage increase\n",
    "percentage_increase = [(unclustered - clustered) / unclustered * 100 \n",
    "                       for clustered, unclustered in zip(ecs_pruned_all_labels, ecs_pruned_unclustered_all_labels)]\n",
    "\n",
    "fig.add_trace(go.Scatter(\n",
    "    x=cifar_labels,\n",
    "    y=ecs_pruned_all_labels,\n",
    "    mode='lines+markers',\n",
    "    name='Pruned clustered model',\n",
    "    line=dict(color='darkblue', width=2),\n",
    "    fill='tonexty'  # This will shade the area between the two plots\n",
    "))\n",
    "\n",
    "fig.add_trace(go.Scatter(\n",
    "    x=cifar_labels,\n",
    "    y=ecs_pruned_unclustered_all_labels,\n",
    "    mode='lines+markers',\n",
    "    name='Pruned unclustered model',\n",
    "    line=dict(color='darkred', width=2),\n",
    "    fill='tonexty'  # This will shade the area between the two plots\n",
    "))\n",
    "\n",
    "# thicker markers\n",
    "fig.update_traces(marker=dict(size=10))\n",
    "\n",
    "# Add percentage increase annotations\n",
    "for i, (x, y, pct) in enumerate(zip(cifar_labels, ecs_pruned_unclustered_all_labels, percentage_increase)):\n",
    "    fig.add_annotation(\n",
    "        x=x,\n",
    "        y=y,\n",
    "        text=f\"+{pct:.1f}%\",\n",
    "        showarrow=False,\n",
    "        yshift=30,\n",
    "        font=dict(\n",
    "            size=20,\n",
    "            color=\"black\"\n",
    "        ),\n",
    "    )\n",
    "\n",
    "# show a huge downward arrow from ecs_pruned_unclustered_all_labels to ecs_pruned_all_labels for each label\n",
    "for i, (x, y1, y2) in enumerate(zip(cifar_labels, ecs_pruned_unclustered_all_labels, ecs_pruned_all_labels)):\n",
    "    fig.add_annotation(\n",
    "        x=x,\n",
    "        y=(y1 + y2) / 2,\n",
    "        text=\"\",\n",
    "        showarrow=True,\n",
    "        arrowhead=2,\n",
    "        arrowsize=float(abs(y1 - y2) / max(ecs_pruned_unclustered_all_labels) * 2),\n",
    "        arrowwidth=2,\n",
    "        arrowcolor='darkred',\n",
    "        ax=0,\n",
    "        ay=-50,\n",
    "    )\n",
    "\n",
    "fig.update_layout(\n",
    "    title_text='.',\n",
    "    xaxis_title_text='Label',\n",
    "    yaxis_title_text='Effective Circuit Size (lesser is better)',\n",
    "    width=800,  # Fixed width\n",
    "    height=600,  # Fixed height\n",
    "    plot_bgcolor='white',\n",
    "    yaxis=dict(range=[0, max(max(ecs_pruned_all_labels), max(ecs_pruned_unclustered_all_labels)) * 1.1]),  # y-axis starts at 0\n",
    ")\n",
    "\n",
    "fig.update_xaxes(\n",
    "    tickmode='linear',\n",
    "    tick0=0,\n",
    "    dtick=1,\n",
    "    showgrid=True,\n",
    "    gridwidth=1,\n",
    "    gridcolor='LightGray'\n",
    ")\n",
    "\n",
    "fig.update_yaxes(showgrid=True, gridwidth=1, gridcolor='LightGray')\n",
    "\n",
    "# fig width and height\n",
    "fig.update_layout(\n",
    "    autosize=False,\n",
    "    width=1000,\n",
    "    height=550,\n",
    ")\n",
    "\n",
    "# increase font size of x ticks\n",
    "fig.update_xaxes(tickfont=dict(size=14))\n",
    "# make them at 45 degree angle\n",
    "fig.update_xaxes(tickangle=0)\n",
    "\n",
    "# legend on top\n",
    "fig.update_layout(legend=dict(\n",
    "    orientation=\"h\",\n",
    "    yanchor=\"bottom\",\n",
    "    y=1.02,\n",
    "    xanchor=\"right\",\n",
    "    x=1\n",
    "))\n",
    "\n",
    "# latex font for everything (for research papers)\n",
    "\n",
    "# fig.update_layout(\n",
    "#     font=dict(\n",
    "#         family=\"Computer Modern\",\n",
    "#         size=20,\n",
    "#         color=\"Black\"\n",
    "#     )\n",
    "# )\n",
    "\n",
    "# everthing latex font (for research paper)\n",
    "fig.update_layout(font=dict(family='serif', size=20, color='black'))\n",
    "fig.update_xaxes(title_font=dict(family='serif', size=20, color='black'))\n",
    "fig.update_yaxes(title_font=dict(family='serif', size=20, color='black'))\n",
    "fig.update_xaxes(tickfont=dict(family='serif', size=18, color='black'))\n",
    "fig.update_yaxes(tickfont=dict(family='serif', size=18, color='black'))\n",
    "fig.update_xaxes(showline=True, linewidth=1, linecolor='black', mirror=False)\n",
    "\n",
    "fig.show()"
   ]
  },
  {
   "cell_type": "markdown",
   "metadata": {},
   "source": [
    "Beautiful! 🤌"
   ]
  },
  {
   "cell_type": "code",
   "execution_count": null,
   "metadata": {},
   "outputs": [
    {
     "ename": "",
     "evalue": "",
     "output_type": "error",
     "traceback": [
      "\u001b[1;31mRunning cells with 'Python 3.10.12' requires the ipykernel package.\n",
      "\u001b[1;31mRun the following command to install 'ipykernel' into the Python environment. \n",
      "\u001b[1;31mCommand: '/bin/python3 -m pip install ipykernel -U --user --force-reinstall'"
     ]
    }
   ],
   "source": [
    "# save as pdf\n",
    "figures_path = Path('figures')\n",
    "\n",
    "fig.write_image(str(figures_path / 'ecs_pruned_all_labels.pdf'))\n",
    "fig.write_image(str(figures_path / 'ecs_pruned_all_labels.jpg'), scale=5)"
   ]
  },
  {
   "cell_type": "code",
   "execution_count": null,
   "metadata": {},
   "outputs": [
    {
     "ename": "",
     "evalue": "",
     "output_type": "error",
     "traceback": [
      "\u001b[1;31mRunning cells with 'Python 3.10.12' requires the ipykernel package.\n",
      "\u001b[1;31mRun the following command to install 'ipykernel' into the Python environment. \n",
      "\u001b[1;31mCommand: '/bin/python3 -m pip install ipykernel -U --user --force-reinstall'"
     ]
    }
   ],
   "source": [
    "print(classwise_accuracy(unclustered_model, test_loader))"
   ]
  },
  {
   "cell_type": "code",
   "execution_count": null,
   "metadata": {},
   "outputs": [
    {
     "ename": "",
     "evalue": "",
     "output_type": "error",
     "traceback": [
      "\u001b[1;31mRunning cells with 'Python 3.10.12' requires the ipykernel package.\n",
      "\u001b[1;31mRun the following command to install 'ipykernel' into the Python environment. \n",
      "\u001b[1;31mCommand: '/bin/python3 -m pip install ipykernel -U --user --force-reinstall'"
     ]
    }
   ],
   "source": [
    "print(classwise_accuracy(model, test_loader))"
   ]
  },
  {
   "cell_type": "code",
   "execution_count": null,
   "metadata": {},
   "outputs": [
    {
     "ename": "",
     "evalue": "",
     "output_type": "error",
     "traceback": [
      "\u001b[1;31mRunning cells with 'Python 3.10.12' requires the ipykernel package.\n",
      "\u001b[1;31mRun the following command to install 'ipykernel' into the Python environment. \n",
      "\u001b[1;31mCommand: '/bin/python3 -m pip install ipykernel -U --user --force-reinstall'"
     ]
    }
   ],
   "source": [
    "fig = make_subplots(rows=2, cols=5, subplot_titles=[f'Label {i}' for i in range(10)])\n",
    "\n",
    "for i in range(10):\n",
    "    img, _ = test_dataset[i]  # Assuming test_dataset returns a tuple (image, label)\n",
    "    img = img.permute(1, 2, 0).cpu().numpy()  # Change shape from (C, H, W) to (H, W, C)\n",
    "    img = (img * 255).astype(np.uint8)  # Ensure pixel values are in the range [0, 255]\n",
    "    \n",
    "    fig.add_trace(go.Image(z=img), row=(i // 5) + 1, col=(i % 5) + 1)\n",
    "\n",
    "fig.update_layout(height=600, width=1000, title_text='One image for each label in CIFAR10')\n",
    "fig.show()"
   ]
  },
  {
   "cell_type": "markdown",
   "metadata": {},
   "source": [
    "Thank you! Feel free to contact Satvik (zsatvik@gmail.com) for stuff related to this codebase."
   ]
  }
 ],
 "metadata": {
  "kernelspec": {
   "display_name": "alignment",
   "language": "python",
   "name": "python3"
  },
  "language_info": {
   "codemirror_mode": {
    "name": "ipython",
    "version": 3
   },
   "file_extension": ".py",
   "mimetype": "text/x-python",
   "name": "python",
   "nbconvert_exporter": "python",
   "pygments_lexer": "ipython3",
   "version": "3.8.1"
  }
 },
 "nbformat": 4,
 "nbformat_minor": 2
}
